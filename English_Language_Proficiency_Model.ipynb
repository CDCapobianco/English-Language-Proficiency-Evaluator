{
  "nbformat": 4,
  "nbformat_minor": 0,
  "metadata": {
    "colab": {
      "provenance": [],
      "collapsed_sections": [
        "hrau4IZhPq-V",
        "hR32XMfjP7Il",
        "wIXT4YCfQjY_",
        "HY1U1llkRoCD",
        "vWivBGIsuP02",
        "hOs1APyruVUH"
      ]
    },
    "kernelspec": {
      "name": "python3",
      "display_name": "Python 3"
    },
    "language_info": {
      "name": "python"
    },
    "accelerator": "GPU"
  },
  "cells": [
    {
      "cell_type": "markdown",
      "source": [
        "# **Environment Setup**"
      ],
      "metadata": {
        "id": "hrau4IZhPq-V"
      }
    },
    {
      "cell_type": "code",
      "execution_count": null,
      "metadata": {
        "id": "N2L8o-AgPjqK"
      },
      "outputs": [],
      "source": [
        "!pip install --quiet ipython-autotime\n",
        "%load_ext autotime"
      ]
    },
    {
      "cell_type": "code",
      "source": [
        "from zipfile import ZipFile\n",
        "import pandas as pd"
      ],
      "metadata": {
        "id": "TG5NvY6kQdRX"
      },
      "execution_count": null,
      "outputs": []
    },
    {
      "cell_type": "markdown",
      "source": [
        "# **Import from Kaggle**"
      ],
      "metadata": {
        "id": "hR32XMfjP7Il"
      }
    },
    {
      "cell_type": "code",
      "source": [
        "!mkdir /root/.kaggle\n",
        "!cp /content/kaggle.json /root/.kaggle\n",
        "!chmod 600 /root/.kaggle/kaggle.json"
      ],
      "metadata": {
        "id": "gvV_1QG0P8-5"
      },
      "execution_count": null,
      "outputs": []
    },
    {
      "cell_type": "code",
      "source": [
        "!kaggle competitions download feedback-prize-english-language-learning -p /content/datasets"
      ],
      "metadata": {
        "id": "jHFP4s-2QHzP"
      },
      "execution_count": null,
      "outputs": []
    },
    {
      "cell_type": "code",
      "source": [
        "with ZipFile(\"/content/datasets/feedback-prize-english-language-learning.zip\",\"r\") as zip_ref:\n",
        "  zip_ref.extractall(\"/content/datasets\")"
      ],
      "metadata": {
        "id": "vholh-q3QWra"
      },
      "execution_count": null,
      "outputs": []
    },
    {
      "cell_type": "markdown",
      "source": [
        "# **Data Exploration**"
      ],
      "metadata": {
        "id": "wIXT4YCfQjY_"
      }
    },
    {
      "cell_type": "code",
      "source": [
        "df = pd.read_csv(\"/content/datasets/train.csv\")"
      ],
      "metadata": {
        "id": "uD-r_J1QQlqB"
      },
      "execution_count": null,
      "outputs": []
    },
    {
      "cell_type": "code",
      "source": [
        "df.columns"
      ],
      "metadata": {
        "colab": {
          "base_uri": "https://localhost:8080/"
        },
        "id": "agXaTiBNSZdB",
        "outputId": "c757a40e-4441-4b64-ccb2-c54790dad416"
      },
      "execution_count": null,
      "outputs": [
        {
          "output_type": "execute_result",
          "data": {
            "text/plain": [
              "Index(['text_id', 'full_text', 'cohesion', 'syntax', 'vocabulary',\n",
              "       'phraseology', 'grammar', 'conventions'],\n",
              "      dtype='object')"
            ]
          },
          "metadata": {},
          "execution_count": 4
        },
        {
          "output_type": "stream",
          "name": "stdout",
          "text": [
            "time: 4.33 ms (started: 2022-10-16 08:27:57 +00:00)\n"
          ]
        }
      ]
    },
    {
      "cell_type": "code",
      "source": [
        "df.head()"
      ],
      "metadata": {
        "colab": {
          "base_uri": "https://localhost:8080/",
          "height": 354
        },
        "id": "9aNnFKWqQyEa",
        "outputId": "b3cf026b-5713-45db-98e0-aa637fdfb0ae"
      },
      "execution_count": null,
      "outputs": [
        {
          "output_type": "execute_result",
          "data": {
            "text/plain": [
              "        text_id                                          full_text  cohesion  \\\n",
              "0  0016926B079C  I think that students would benefit from learn...       3.5   \n",
              "1  0022683E9EA5  When a problem is a change you have to let it ...       2.5   \n",
              "2  00299B378633  Dear, Principal\\n\\nIf u change the school poli...       3.0   \n",
              "3  003885A45F42  The best time in life is when you become yours...       4.5   \n",
              "4  0049B1DF5CCC  Small act of kindness can impact in other peop...       2.5   \n",
              "\n",
              "   syntax  vocabulary  phraseology  grammar  conventions  \n",
              "0     3.5         3.0          3.0      4.0          3.0  \n",
              "1     2.5         3.0          2.0      2.0          2.5  \n",
              "2     3.5         3.0          3.0      3.0          2.5  \n",
              "3     4.5         4.5          4.5      4.0          5.0  \n",
              "4     3.0         3.0          3.0      2.5          2.5  "
            ],
            "text/html": [
              "\n",
              "  <div id=\"df-949bf3c3-e91c-4227-ad0a-81f43d424048\">\n",
              "    <div class=\"colab-df-container\">\n",
              "      <div>\n",
              "<style scoped>\n",
              "    .dataframe tbody tr th:only-of-type {\n",
              "        vertical-align: middle;\n",
              "    }\n",
              "\n",
              "    .dataframe tbody tr th {\n",
              "        vertical-align: top;\n",
              "    }\n",
              "\n",
              "    .dataframe thead th {\n",
              "        text-align: right;\n",
              "    }\n",
              "</style>\n",
              "<table border=\"1\" class=\"dataframe\">\n",
              "  <thead>\n",
              "    <tr style=\"text-align: right;\">\n",
              "      <th></th>\n",
              "      <th>text_id</th>\n",
              "      <th>full_text</th>\n",
              "      <th>cohesion</th>\n",
              "      <th>syntax</th>\n",
              "      <th>vocabulary</th>\n",
              "      <th>phraseology</th>\n",
              "      <th>grammar</th>\n",
              "      <th>conventions</th>\n",
              "    </tr>\n",
              "  </thead>\n",
              "  <tbody>\n",
              "    <tr>\n",
              "      <th>0</th>\n",
              "      <td>0016926B079C</td>\n",
              "      <td>I think that students would benefit from learn...</td>\n",
              "      <td>3.5</td>\n",
              "      <td>3.5</td>\n",
              "      <td>3.0</td>\n",
              "      <td>3.0</td>\n",
              "      <td>4.0</td>\n",
              "      <td>3.0</td>\n",
              "    </tr>\n",
              "    <tr>\n",
              "      <th>1</th>\n",
              "      <td>0022683E9EA5</td>\n",
              "      <td>When a problem is a change you have to let it ...</td>\n",
              "      <td>2.5</td>\n",
              "      <td>2.5</td>\n",
              "      <td>3.0</td>\n",
              "      <td>2.0</td>\n",
              "      <td>2.0</td>\n",
              "      <td>2.5</td>\n",
              "    </tr>\n",
              "    <tr>\n",
              "      <th>2</th>\n",
              "      <td>00299B378633</td>\n",
              "      <td>Dear, Principal\\n\\nIf u change the school poli...</td>\n",
              "      <td>3.0</td>\n",
              "      <td>3.5</td>\n",
              "      <td>3.0</td>\n",
              "      <td>3.0</td>\n",
              "      <td>3.0</td>\n",
              "      <td>2.5</td>\n",
              "    </tr>\n",
              "    <tr>\n",
              "      <th>3</th>\n",
              "      <td>003885A45F42</td>\n",
              "      <td>The best time in life is when you become yours...</td>\n",
              "      <td>4.5</td>\n",
              "      <td>4.5</td>\n",
              "      <td>4.5</td>\n",
              "      <td>4.5</td>\n",
              "      <td>4.0</td>\n",
              "      <td>5.0</td>\n",
              "    </tr>\n",
              "    <tr>\n",
              "      <th>4</th>\n",
              "      <td>0049B1DF5CCC</td>\n",
              "      <td>Small act of kindness can impact in other peop...</td>\n",
              "      <td>2.5</td>\n",
              "      <td>3.0</td>\n",
              "      <td>3.0</td>\n",
              "      <td>3.0</td>\n",
              "      <td>2.5</td>\n",
              "      <td>2.5</td>\n",
              "    </tr>\n",
              "  </tbody>\n",
              "</table>\n",
              "</div>\n",
              "      <button class=\"colab-df-convert\" onclick=\"convertToInteractive('df-949bf3c3-e91c-4227-ad0a-81f43d424048')\"\n",
              "              title=\"Convert this dataframe to an interactive table.\"\n",
              "              style=\"display:none;\">\n",
              "        \n",
              "  <svg xmlns=\"http://www.w3.org/2000/svg\" height=\"24px\"viewBox=\"0 0 24 24\"\n",
              "       width=\"24px\">\n",
              "    <path d=\"M0 0h24v24H0V0z\" fill=\"none\"/>\n",
              "    <path d=\"M18.56 5.44l.94 2.06.94-2.06 2.06-.94-2.06-.94-.94-2.06-.94 2.06-2.06.94zm-11 1L8.5 8.5l.94-2.06 2.06-.94-2.06-.94L8.5 2.5l-.94 2.06-2.06.94zm10 10l.94 2.06.94-2.06 2.06-.94-2.06-.94-.94-2.06-.94 2.06-2.06.94z\"/><path d=\"M17.41 7.96l-1.37-1.37c-.4-.4-.92-.59-1.43-.59-.52 0-1.04.2-1.43.59L10.3 9.45l-7.72 7.72c-.78.78-.78 2.05 0 2.83L4 21.41c.39.39.9.59 1.41.59.51 0 1.02-.2 1.41-.59l7.78-7.78 2.81-2.81c.8-.78.8-2.07 0-2.86zM5.41 20L4 18.59l7.72-7.72 1.47 1.35L5.41 20z\"/>\n",
              "  </svg>\n",
              "      </button>\n",
              "      \n",
              "  <style>\n",
              "    .colab-df-container {\n",
              "      display:flex;\n",
              "      flex-wrap:wrap;\n",
              "      gap: 12px;\n",
              "    }\n",
              "\n",
              "    .colab-df-convert {\n",
              "      background-color: #E8F0FE;\n",
              "      border: none;\n",
              "      border-radius: 50%;\n",
              "      cursor: pointer;\n",
              "      display: none;\n",
              "      fill: #1967D2;\n",
              "      height: 32px;\n",
              "      padding: 0 0 0 0;\n",
              "      width: 32px;\n",
              "    }\n",
              "\n",
              "    .colab-df-convert:hover {\n",
              "      background-color: #E2EBFA;\n",
              "      box-shadow: 0px 1px 2px rgba(60, 64, 67, 0.3), 0px 1px 3px 1px rgba(60, 64, 67, 0.15);\n",
              "      fill: #174EA6;\n",
              "    }\n",
              "\n",
              "    [theme=dark] .colab-df-convert {\n",
              "      background-color: #3B4455;\n",
              "      fill: #D2E3FC;\n",
              "    }\n",
              "\n",
              "    [theme=dark] .colab-df-convert:hover {\n",
              "      background-color: #434B5C;\n",
              "      box-shadow: 0px 1px 3px 1px rgba(0, 0, 0, 0.15);\n",
              "      filter: drop-shadow(0px 1px 2px rgba(0, 0, 0, 0.3));\n",
              "      fill: #FFFFFF;\n",
              "    }\n",
              "  </style>\n",
              "\n",
              "      <script>\n",
              "        const buttonEl =\n",
              "          document.querySelector('#df-949bf3c3-e91c-4227-ad0a-81f43d424048 button.colab-df-convert');\n",
              "        buttonEl.style.display =\n",
              "          google.colab.kernel.accessAllowed ? 'block' : 'none';\n",
              "\n",
              "        async function convertToInteractive(key) {\n",
              "          const element = document.querySelector('#df-949bf3c3-e91c-4227-ad0a-81f43d424048');\n",
              "          const dataTable =\n",
              "            await google.colab.kernel.invokeFunction('convertToInteractive',\n",
              "                                                     [key], {});\n",
              "          if (!dataTable) return;\n",
              "\n",
              "          const docLinkHtml = 'Like what you see? Visit the ' +\n",
              "            '<a target=\"_blank\" href=https://colab.research.google.com/notebooks/data_table.ipynb>data table notebook</a>'\n",
              "            + ' to learn more about interactive tables.';\n",
              "          element.innerHTML = '';\n",
              "          dataTable['output_type'] = 'display_data';\n",
              "          await google.colab.output.renderOutput(dataTable, element);\n",
              "          const docLink = document.createElement('div');\n",
              "          docLink.innerHTML = docLinkHtml;\n",
              "          element.appendChild(docLink);\n",
              "        }\n",
              "      </script>\n",
              "    </div>\n",
              "  </div>\n",
              "  "
            ]
          },
          "metadata": {},
          "execution_count": 5
        },
        {
          "output_type": "stream",
          "name": "stdout",
          "text": [
            "time: 31.6 ms (started: 2022-10-16 08:27:57 +00:00)\n"
          ]
        }
      ]
    },
    {
      "cell_type": "code",
      "source": [
        "df.info()"
      ],
      "metadata": {
        "colab": {
          "base_uri": "https://localhost:8080/"
        },
        "id": "ZXylsXKoRYrC",
        "outputId": "77baed01-49ff-4055-807e-a527dbac7223"
      },
      "execution_count": null,
      "outputs": [
        {
          "output_type": "stream",
          "name": "stdout",
          "text": [
            "<class 'pandas.core.frame.DataFrame'>\n",
            "RangeIndex: 3911 entries, 0 to 3910\n",
            "Data columns (total 8 columns):\n",
            " #   Column       Non-Null Count  Dtype  \n",
            "---  ------       --------------  -----  \n",
            " 0   text_id      3911 non-null   object \n",
            " 1   full_text    3911 non-null   object \n",
            " 2   cohesion     3911 non-null   float64\n",
            " 3   syntax       3911 non-null   float64\n",
            " 4   vocabulary   3911 non-null   float64\n",
            " 5   phraseology  3911 non-null   float64\n",
            " 6   grammar      3911 non-null   float64\n",
            " 7   conventions  3911 non-null   float64\n",
            "dtypes: float64(6), object(2)\n",
            "memory usage: 244.6+ KB\n",
            "time: 23.5 ms (started: 2022-10-16 08:27:57 +00:00)\n"
          ]
        }
      ]
    },
    {
      "cell_type": "markdown",
      "source": [
        "# **Approach with ML Models**"
      ],
      "metadata": {
        "id": "HY1U1llkRoCD"
      }
    },
    {
      "cell_type": "markdown",
      "source": [
        "**Dependencies**"
      ],
      "metadata": {
        "id": "JSFtX_h9ZDxM"
      }
    },
    {
      "cell_type": "code",
      "source": [
        "from statistics import mean\n",
        "from sklearn.model_selection import train_test_split\n",
        "from sklearn.feature_extraction.text import TfidfVectorizer\n",
        "from sklearn.multioutput import MultiOutputRegressor\n",
        "from sklearn.linear_model import LinearRegression\n",
        "from sklearn.svm import SVR\n",
        "from sklearn.metrics import mean_absolute_error\n",
        "from sklearn.model_selection import GridSearchCV,cross_validate\n",
        "from xgboost import XGBRegressor"
      ],
      "metadata": {
        "id": "zGdKQPHUZKIf"
      },
      "execution_count": null,
      "outputs": []
    },
    {
      "cell_type": "markdown",
      "source": [
        "**Utility Functions**"
      ],
      "metadata": {
        "id": "9mIQSHlkShxO"
      }
    },
    {
      "cell_type": "code",
      "source": [
        "def regression_report(scoring_vector):\n",
        "  print(\"Mean Absolute Error:\"+str(abs(mean(scoring_vector['test_neg_mean_absolute_error']))))\n",
        "  print(\"Mean Squared Error:\"+str(abs(mean(scoring_vector['test_neg_mean_squared_error']))))\n",
        "  print(\"Median Absolute Error:\"+str(abs(mean(scoring_vector['test_neg_median_absolute_error']))))\n",
        "  "
      ],
      "metadata": {
        "id": "vH6Mjx1wSjzU"
      },
      "execution_count": null,
      "outputs": []
    },
    {
      "cell_type": "markdown",
      "source": [
        "**Preprocessing**"
      ],
      "metadata": {
        "id": "Kk6YFPIxRyGs"
      }
    },
    {
      "cell_type": "markdown",
      "source": [
        "We will use the TFIDF Vectorizer to preprocess and vectorize the texts."
      ],
      "metadata": {
        "id": "FTNuK0-CR-bg"
      }
    },
    {
      "cell_type": "code",
      "source": [
        "tfidf = TfidfVectorizer()\n",
        "\n",
        "X = tfidf.fit_transform(df[\"full_text\"])"
      ],
      "metadata": {
        "id": "KkD9A7ygULh_"
      },
      "execution_count": null,
      "outputs": []
    },
    {
      "cell_type": "code",
      "source": [
        "tfidf.get_feature_names_out()[:15]"
      ],
      "metadata": {
        "id": "UfnJGWDhVU5u"
      },
      "execution_count": null,
      "outputs": []
    },
    {
      "cell_type": "code",
      "source": [
        "X.shape   #21363 features"
      ],
      "metadata": {
        "colab": {
          "base_uri": "https://localhost:8080/"
        },
        "id": "MjZndxWlVrco",
        "outputId": "7785f59c-ea87-48b9-a62c-61f162241e55"
      },
      "execution_count": null,
      "outputs": [
        {
          "output_type": "execute_result",
          "data": {
            "text/plain": [
              "(3911, 21363)"
            ]
          },
          "metadata": {},
          "execution_count": 91
        },
        {
          "output_type": "stream",
          "name": "stdout",
          "text": [
            "time: 5.45 ms (started: 2022-10-07 14:37:30 +00:00)\n"
          ]
        }
      ]
    },
    {
      "cell_type": "code",
      "source": [
        "y = df.drop([\"text_id\",\"full_text\"],axis=1)"
      ],
      "metadata": {
        "id": "peGANlif16D_"
      },
      "execution_count": null,
      "outputs": []
    },
    {
      "cell_type": "code",
      "source": [
        "cross_val_scoring = [\"neg_mean_squared_error\",\"neg_mean_absolute_error\",\"neg_median_absolute_error\"]"
      ],
      "metadata": {
        "id": "iCpnt7Gi2sLq"
      },
      "execution_count": null,
      "outputs": []
    },
    {
      "cell_type": "markdown",
      "source": [
        "**Training and Testing with Linear Regressor**"
      ],
      "metadata": {
        "id": "yK7asR2EZS0Q"
      }
    },
    {
      "cell_type": "code",
      "source": [
        "linear_regressor = MultiOutputRegressor(LinearRegression())\n",
        "scores = cross_validate(linear_regressor,X,y,cv=5,scoring=cross_val_scoring)"
      ],
      "metadata": {
        "id": "5R4wSzdpZUlS"
      },
      "execution_count": null,
      "outputs": []
    },
    {
      "cell_type": "code",
      "source": [
        "regression_report(scores)"
      ],
      "metadata": {
        "colab": {
          "base_uri": "https://localhost:8080/"
        },
        "id": "JIC_lRbZZrjQ",
        "outputId": "48c216d0-d6df-484f-b28e-d1f0ff4e88a8"
      },
      "execution_count": null,
      "outputs": [
        {
          "output_type": "stream",
          "name": "stdout",
          "text": [
            "Mean Absolute Error:0.5877873583883393\n",
            "Mean Squared Error:0.5478169927430634\n",
            "Median Absolute Error:0.4962948992294312\n",
            "time: 12.7 ms (started: 2022-10-07 14:49:18 +00:00)\n"
          ]
        }
      ]
    },
    {
      "cell_type": "markdown",
      "source": [
        "**Training and Testing with SVM Regressor**"
      ],
      "metadata": {
        "id": "MnMhxCh-cNKG"
      }
    },
    {
      "cell_type": "code",
      "source": [
        "svr = SVR()\n",
        "multi_regressor = MultiOutputRegressor(svr)\n",
        "params = {'estimator__C':[0.1,0.01,1],'estimator__gamma':[0.1,1,10,1000]}\n",
        "clf = GridSearchCV(multi_regressor,params,verbose=3)"
      ],
      "metadata": {
        "id": "TCs1727qcQfm"
      },
      "execution_count": null,
      "outputs": []
    },
    {
      "cell_type": "code",
      "source": [
        "clf.fit(X,y)"
      ],
      "metadata": {
        "id": "nRJ55ebVRYbD"
      },
      "execution_count": null,
      "outputs": []
    },
    {
      "cell_type": "code",
      "source": [
        "clf.best_params_"
      ],
      "metadata": {
        "id": "d6_VrOZdRcuP",
        "colab": {
          "base_uri": "https://localhost:8080/"
        },
        "outputId": "f0ee1cb9-185a-4977-8a42-32b76471ad59"
      },
      "execution_count": null,
      "outputs": [
        {
          "output_type": "execute_result",
          "data": {
            "text/plain": [
              "{'estimator__C': 1, 'estimator__gamma': 1}"
            ]
          },
          "metadata": {},
          "execution_count": 18
        },
        {
          "output_type": "stream",
          "name": "stdout",
          "text": [
            "time: 4.87 ms (started: 2022-10-08 00:46:01 +00:00)\n"
          ]
        }
      ]
    },
    {
      "cell_type": "code",
      "source": [
        "multi_regressor = MultiOutputRegressor(SVR(C=1,gamma=1))"
      ],
      "metadata": {
        "id": "JYeQfTjd_clG"
      },
      "execution_count": null,
      "outputs": []
    },
    {
      "cell_type": "code",
      "source": [
        "scores = cross_validate(multi_regressor,X,y,cv=5,scoring=cross_val_scoring)"
      ],
      "metadata": {
        "id": "Gw4bEv2_7EZx"
      },
      "execution_count": null,
      "outputs": []
    },
    {
      "cell_type": "code",
      "source": [
        "regression_report(scores)"
      ],
      "metadata": {
        "colab": {
          "base_uri": "https://localhost:8080/"
        },
        "id": "fwHrEYaLh6wa",
        "outputId": "94995959-331e-42de-938e-a1d5823cf4ed"
      },
      "execution_count": null,
      "outputs": [
        {
          "output_type": "stream",
          "name": "stdout",
          "text": [
            "Mean Absolute Error:0.44030738436414085\n",
            "Mean Squared Error:0.3035907313556448\n",
            "Median Absolute Error:0.3757517880211312\n",
            "time: 1.2 ms (started: 2022-10-08 18:35:28 +00:00)\n"
          ]
        }
      ]
    },
    {
      "cell_type": "markdown",
      "source": [
        "**Training and Testing with XGBRegressor**"
      ],
      "metadata": {
        "id": "qc2sNZ3PrENz"
      }
    },
    {
      "cell_type": "code",
      "source": [
        "xgb = XGBRegressor(n_estimators=100,objective='reg:squarederror')\n",
        "multi_regressor = MultiOutputRegressor(xgb)\n",
        "params = {'estimator__min_child_weight':[0.1,1,10],'estimator__gamma':[1,10,100],'estimator__max_depth':[3,6,10]}\n",
        "clf = GridSearchCV(multi_regressor,params,verbose=3)"
      ],
      "metadata": {
        "id": "ulEfzRz4rP_7"
      },
      "execution_count": null,
      "outputs": []
    },
    {
      "cell_type": "code",
      "source": [
        "clf.fit(X,y)"
      ],
      "metadata": {
        "id": "hePiUtG9GMGv"
      },
      "execution_count": null,
      "outputs": []
    },
    {
      "cell_type": "code",
      "source": [
        "clf.best_params_"
      ],
      "metadata": {
        "id": "otLx7kfZR5HE",
        "colab": {
          "base_uri": "https://localhost:8080/"
        },
        "outputId": "f7c06c9d-c9a5-4a2f-8a62-d82cb3a6c710"
      },
      "execution_count": null,
      "outputs": [
        {
          "output_type": "execute_result",
          "data": {
            "text/plain": [
              "{'estimator__gamma': 1,\n",
              " 'estimator__max_depth': 6,\n",
              " 'estimator__min_child_weight': 10}"
            ]
          },
          "metadata": {},
          "execution_count": 15
        },
        {
          "output_type": "stream",
          "name": "stdout",
          "text": [
            "time: 5.16 ms (started: 2022-10-08 14:22:31 +00:00)\n"
          ]
        }
      ]
    },
    {
      "cell_type": "code",
      "source": [
        "multi_regressor = MultiOutputRegressor(XGBRegressor(gamma=1,max_depth=3,min_child_weight=10))"
      ],
      "metadata": {
        "id": "r0KN-foLwkxD"
      },
      "execution_count": null,
      "outputs": []
    },
    {
      "cell_type": "code",
      "source": [
        "scores = cross_validate(multi_regressor,X,y,cv=5,scoring=cross_val_scoring)"
      ],
      "metadata": {
        "id": "6-DlDppk-PGP"
      },
      "execution_count": null,
      "outputs": []
    },
    {
      "cell_type": "code",
      "source": [
        "regression_report(scores)"
      ],
      "metadata": {
        "colab": {
          "base_uri": "https://localhost:8080/"
        },
        "id": "3d82tUaP-Yp5",
        "outputId": "c76e1d84-42d0-4311-821a-ec11b0fa3079"
      },
      "execution_count": null,
      "outputs": [
        {
          "output_type": "stream",
          "name": "stdout",
          "text": [
            "Mean Absolute Error:0.4459536600999776\n",
            "Mean Squared Error:0.309199442458324\n",
            "Median Absolute Error:0.3842533310254415\n",
            "time: 1.27 ms (started: 2022-10-08 18:48:55 +00:00)\n"
          ]
        }
      ]
    },
    {
      "cell_type": "markdown",
      "source": [
        "# **Approach with TF Neural Networks**"
      ],
      "metadata": {
        "id": "vWivBGIsuP02"
      }
    },
    {
      "cell_type": "markdown",
      "source": [
        "**Dependencies**"
      ],
      "metadata": {
        "id": "iBP3OizpHYjL"
      }
    },
    {
      "cell_type": "code",
      "source": [
        "!python -m spacy download en_core_web_lg"
      ],
      "metadata": {
        "id": "O56WG-JZJcm0"
      },
      "execution_count": null,
      "outputs": []
    },
    {
      "cell_type": "code",
      "source": [
        "import tensorflow as tf\n",
        "import spacy\n",
        "import numpy as np"
      ],
      "metadata": {
        "id": "y-hkDdKlHiTO"
      },
      "execution_count": null,
      "outputs": []
    },
    {
      "cell_type": "code",
      "source": [
        "!mkdir /content/checkpoint"
      ],
      "metadata": {
        "id": "uhcGMIdqKu-l"
      },
      "execution_count": null,
      "outputs": []
    },
    {
      "cell_type": "markdown",
      "source": [
        "**Constants**"
      ],
      "metadata": {
        "id": "dDvoV5tCIB6_"
      }
    },
    {
      "cell_type": "code",
      "source": [
        "MAX_TOKENS = 30000 \n",
        "OUTPUT_SEQUENCE_LENGTH=6044    #max text length in the dataset"
      ],
      "metadata": {
        "id": "X0UqMyQiIDAy"
      },
      "execution_count": null,
      "outputs": []
    },
    {
      "cell_type": "markdown",
      "source": [
        "**Preprocessing**"
      ],
      "metadata": {
        "id": "FmJyszOKNNgi"
      }
    },
    {
      "cell_type": "code",
      "source": [
        "X = df['full_text']\n",
        "y = df.drop(['text_id','full_text'],axis=1)"
      ],
      "metadata": {
        "id": "FLQwMVaTNNIF"
      },
      "execution_count": null,
      "outputs": []
    },
    {
      "cell_type": "code",
      "source": [
        "dataset = tf.data.Dataset.from_tensor_slices((X,y))"
      ],
      "metadata": {
        "id": "VhxJo9UEOMUl"
      },
      "execution_count": null,
      "outputs": []
    },
    {
      "cell_type": "code",
      "source": [
        "ds_cardinality = tf.data.experimental.cardinality(dataset)\n",
        "dataset = dataset.shuffle(buffer_size=ds_cardinality)\n",
        "test_set = dataset.take(ds_cardinality // 5)  #20%\n",
        "train_set = dataset.skip(ds_cardinality // 5)"
      ],
      "metadata": {
        "id": "8xjYYsAXLWZB"
      },
      "execution_count": null,
      "outputs": []
    },
    {
      "cell_type": "code",
      "source": [
        "train_set = train_set.batch(32)\n",
        "test_set = test_set.batch(32)"
      ],
      "metadata": {
        "id": "FthkrUqKQ9uM"
      },
      "execution_count": null,
      "outputs": []
    },
    {
      "cell_type": "markdown",
      "source": [
        "**Embedding Matrix generation**"
      ],
      "metadata": {
        "id": "6dUC6o_QHbHO"
      }
    },
    {
      "cell_type": "code",
      "source": [
        "text_vectorization = tf.keras.layers.TextVectorization(\n",
        "    max_tokens=MAX_TOKENS,\n",
        "    output_sequence_length=OUTPUT_SEQUENCE_LENGTH\n",
        ")\n",
        "\n",
        "\n",
        "text_vectorization.adapt(df['full_text'].to_numpy())"
      ],
      "metadata": {
        "id": "PlEuCyHXHlFA"
      },
      "execution_count": null,
      "outputs": []
    },
    {
      "cell_type": "code",
      "source": [
        "num_tokens = len(text_vectorization.get_vocabulary())"
      ],
      "metadata": {
        "id": "K7kV2mXKJLAs"
      },
      "execution_count": null,
      "outputs": []
    },
    {
      "cell_type": "code",
      "source": [
        "nlp = spacy.load('en_core_web_lg')\n",
        "\n",
        "embedding_dim = len(nlp('The').vector)"
      ],
      "metadata": {
        "id": "h9yZ6wh3JRTC"
      },
      "execution_count": null,
      "outputs": []
    },
    {
      "cell_type": "code",
      "source": [
        "embedding_matrix = np.zeros((num_tokens,embedding_dim))\n",
        "\n",
        "for i,word in enumerate(text_vectorization.get_vocabulary()):\n",
        "  embedding_matrix[i] = nlp(str(word)).vector"
      ],
      "metadata": {
        "id": "S_yqrHL3KN_z"
      },
      "execution_count": null,
      "outputs": []
    },
    {
      "cell_type": "code",
      "source": [
        "embedding_layer = tf.keras.layers.Embedding(num_tokens,\n",
        "                                            embedding_dim,\n",
        "                                            input_length=OUTPUT_SEQUENCE_LENGTH,\n",
        "                                            embeddings_initializer=tf.initializers.Constant(embedding_matrix),\n",
        "                                            trainable=False)"
      ],
      "metadata": {
        "id": "zDZfTK0WLre6"
      },
      "execution_count": null,
      "outputs": []
    },
    {
      "cell_type": "code",
      "source": [
        "vector = np.random.random_integers(low=0,high=num_tokens-1,size=OUTPUT_SEQUENCE_LENGTH)"
      ],
      "metadata": {
        "id": "c3h5a__gCcf5"
      },
      "execution_count": null,
      "outputs": []
    },
    {
      "cell_type": "code",
      "source": [
        "embedding_layer(vector)"
      ],
      "metadata": {
        "id": "rqM3U_PTDE8a"
      },
      "execution_count": null,
      "outputs": []
    },
    {
      "cell_type": "markdown",
      "source": [
        "**Training and Testing with LSTM Neural Network**"
      ],
      "metadata": {
        "id": "GNpDCyuoHeWS"
      }
    },
    {
      "cell_type": "code",
      "source": [
        "input = tf.keras.layers.Input(shape=(),dtype=tf.string)\n",
        "x = text_vectorization(input)\n",
        "x = embedding_layer(x)\n",
        "x = tf.keras.layers.LSTM(256,return_sequences=True)(x)\n",
        "x = tf.keras.layers.LSTM(256,return_sequences=True)(x)\n",
        "x = tf.keras.layers.Flatten()(x)\n",
        "output = tf.keras.layers.Dense(6)(x)\n",
        "\n",
        "model = tf.keras.Model(inputs=input,outputs=output)\n",
        "\n",
        "model.compile(optimizer=\"adam\",loss=\"mse\",metrics=[\"mae\",\"mse\"])"
      ],
      "metadata": {
        "id": "YDvEHazwHW9m"
      },
      "execution_count": null,
      "outputs": []
    },
    {
      "cell_type": "code",
      "source": [
        "model.summary()"
      ],
      "metadata": {
        "colab": {
          "base_uri": "https://localhost:8080/"
        },
        "id": "WT9YZ1sLErMC",
        "outputId": "cb48d598-464e-47d6-81ba-b027d9b775eb"
      },
      "execution_count": null,
      "outputs": [
        {
          "output_type": "stream",
          "name": "stdout",
          "text": [
            "Model: \"model\"\n",
            "_________________________________________________________________\n",
            " Layer (type)                Output Shape              Param #   \n",
            "=================================================================\n",
            " input_1 (InputLayer)        [(None,)]                 0         \n",
            "                                                                 \n",
            " text_vectorization (TextVec  (None, 6044)             0         \n",
            " torization)                                                     \n",
            "                                                                 \n",
            " embedding (Embedding)       (None, 6044, 300)         7541100   \n",
            "                                                                 \n",
            " lstm (LSTM)                 (None, 6044, 256)         570368    \n",
            "                                                                 \n",
            " lstm_1 (LSTM)               (None, 6044, 256)         525312    \n",
            "                                                                 \n",
            " flatten (Flatten)           (None, 1547264)           0         \n",
            "                                                                 \n",
            " dense (Dense)               (None, 6)                 9283590   \n",
            "                                                                 \n",
            "=================================================================\n",
            "Total params: 17,920,370\n",
            "Trainable params: 10,379,270\n",
            "Non-trainable params: 7,541,100\n",
            "_________________________________________________________________\n",
            "time: 46.3 ms (started: 2022-10-10 17:46:33 +00:00)\n"
          ]
        }
      ]
    },
    {
      "cell_type": "code",
      "source": [
        "model_checkpoint = tf.keras.callbacks.ModelCheckpoint(filepath=\"/content/checkpoint\",monitor='val_loss',mode='min',save_best_only=True)\n",
        "lr_plateau = tf.keras.callbacks.ReduceLROnPlateau(verbose=1,patience=6)\n",
        "early_stopping = tf.keras.callbacks.EarlyStopping(patience=16)"
      ],
      "metadata": {
        "id": "95qv2uO9KjZx"
      },
      "execution_count": null,
      "outputs": []
    },
    {
      "cell_type": "code",
      "source": [
        "model.fit(train_set,validation_data=(test_set),epochs=70,callbacks=[lr_plateau,early_stopping,model_checkpoint])"
      ],
      "metadata": {
        "id": "G2iQn4bZNFVb",
        "colab": {
          "base_uri": "https://localhost:8080/"
        },
        "outputId": "b80c3508-451d-4cd8-f95f-442092fe507c"
      },
      "execution_count": null,
      "outputs": [
        {
          "output_type": "stream",
          "name": "stdout",
          "text": [
            "Epoch 1/70\n",
            "98/98 [==============================] - ETA: 0s - loss: 3.3219 - mae: 0.9954 - mse: 3.3219"
          ]
        },
        {
          "output_type": "stream",
          "name": "stderr",
          "text": [
            "WARNING:absl:Found untraced functions such as lstm_cell_6_layer_call_fn, lstm_cell_6_layer_call_and_return_conditional_losses, lstm_cell_7_layer_call_fn, lstm_cell_7_layer_call_and_return_conditional_losses while saving (showing 4 of 4). These functions will not be directly callable after loading.\n",
            "WARNING:absl:<keras.layers.recurrent.LSTMCell object at 0x7f1e6a80e650> has the same name 'LSTMCell' as a built-in Keras object. Consider renaming <class 'keras.layers.recurrent.LSTMCell'> to avoid naming conflicts when loading with `tf.keras.models.load_model`. If renaming is not possible, pass the object in the `custom_objects` parameter of the load function.\n",
            "WARNING:absl:<keras.layers.recurrent.LSTMCell object at 0x7f1e6a80e950> has the same name 'LSTMCell' as a built-in Keras object. Consider renaming <class 'keras.layers.recurrent.LSTMCell'> to avoid naming conflicts when loading with `tf.keras.models.load_model`. If renaming is not possible, pass the object in the `custom_objects` parameter of the load function.\n"
          ]
        },
        {
          "output_type": "stream",
          "name": "stdout",
          "text": [
            "\b\b\b\b\b\b\b\b\b\b\b\b\b\b\b\b\b\b\b\b\b\b\b\b\b\b\b\b\b\b\b\b\b\b\b\b\b\b\b\b\b\b\b\b\b\b\b\b\b\b\b\b\b\b\b\b\b\b\b\b\b\b\b\b\b\b\b\b\b\b\b\b\b\b\b\b\b\b\b\b\b\b\b\b\b\b\b\b\b\b\b\r98/98 [==============================] - 117s 1s/step - loss: 3.3219 - mae: 0.9954 - mse: 3.3219 - val_loss: 0.3730 - val_mae: 0.4747 - val_mse: 0.3730 - lr: 0.0010\n",
            "Epoch 2/70\n",
            "98/98 [==============================] - ETA: 0s - loss: 0.3693 - mae: 0.4698 - mse: 0.3693"
          ]
        },
        {
          "output_type": "stream",
          "name": "stderr",
          "text": [
            "WARNING:absl:Found untraced functions such as lstm_cell_6_layer_call_fn, lstm_cell_6_layer_call_and_return_conditional_losses, lstm_cell_7_layer_call_fn, lstm_cell_7_layer_call_and_return_conditional_losses while saving (showing 4 of 4). These functions will not be directly callable after loading.\n",
            "WARNING:absl:<keras.layers.recurrent.LSTMCell object at 0x7f1e6a80e650> has the same name 'LSTMCell' as a built-in Keras object. Consider renaming <class 'keras.layers.recurrent.LSTMCell'> to avoid naming conflicts when loading with `tf.keras.models.load_model`. If renaming is not possible, pass the object in the `custom_objects` parameter of the load function.\n",
            "WARNING:absl:<keras.layers.recurrent.LSTMCell object at 0x7f1e6a80e950> has the same name 'LSTMCell' as a built-in Keras object. Consider renaming <class 'keras.layers.recurrent.LSTMCell'> to avoid naming conflicts when loading with `tf.keras.models.load_model`. If renaming is not possible, pass the object in the `custom_objects` parameter of the load function.\n"
          ]
        },
        {
          "output_type": "stream",
          "name": "stdout",
          "text": [
            "\b\b\b\b\b\b\b\b\b\b\b\b\b\b\b\b\b\b\b\b\b\b\b\b\b\b\b\b\b\b\b\b\b\b\b\b\b\b\b\b\b\b\b\b\b\b\b\b\b\b\b\b\b\b\b\b\b\b\b\b\b\b\b\b\b\b\b\b\b\b\b\b\b\b\b\b\b\b\b\b\b\b\b\b\b\b\b\b\b\b\b\r98/98 [==============================] - 114s 1s/step - loss: 0.3693 - mae: 0.4698 - mse: 0.3693 - val_loss: 0.3482 - val_mae: 0.4368 - val_mse: 0.3482 - lr: 0.0010\n",
            "Epoch 3/70\n",
            "98/98 [==============================] - ETA: 0s - loss: 0.3277 - mae: 0.4362 - mse: 0.3277"
          ]
        },
        {
          "output_type": "stream",
          "name": "stderr",
          "text": [
            "WARNING:absl:Found untraced functions such as lstm_cell_6_layer_call_fn, lstm_cell_6_layer_call_and_return_conditional_losses, lstm_cell_7_layer_call_fn, lstm_cell_7_layer_call_and_return_conditional_losses while saving (showing 4 of 4). These functions will not be directly callable after loading.\n",
            "WARNING:absl:<keras.layers.recurrent.LSTMCell object at 0x7f1e6a80e650> has the same name 'LSTMCell' as a built-in Keras object. Consider renaming <class 'keras.layers.recurrent.LSTMCell'> to avoid naming conflicts when loading with `tf.keras.models.load_model`. If renaming is not possible, pass the object in the `custom_objects` parameter of the load function.\n",
            "WARNING:absl:<keras.layers.recurrent.LSTMCell object at 0x7f1e6a80e950> has the same name 'LSTMCell' as a built-in Keras object. Consider renaming <class 'keras.layers.recurrent.LSTMCell'> to avoid naming conflicts when loading with `tf.keras.models.load_model`. If renaming is not possible, pass the object in the `custom_objects` parameter of the load function.\n"
          ]
        },
        {
          "output_type": "stream",
          "name": "stdout",
          "text": [
            "\b\b\b\b\b\b\b\b\b\b\b\b\b\b\b\b\b\b\b\b\b\b\b\b\b\b\b\b\b\b\b\b\b\b\b\b\b\b\b\b\b\b\b\b\b\b\b\b\b\b\b\b\b\b\b\b\b\b\b\b\b\b\b\b\b\b\b\b\b\b\b\b\b\b\b\b\b\b\b\b\b\b\b\b\b\b\b\b\b\b\b\r98/98 [==============================] - 116s 1s/step - loss: 0.3277 - mae: 0.4362 - mse: 0.3277 - val_loss: 0.3082 - val_mae: 0.3873 - val_mse: 0.3082 - lr: 0.0010\n",
            "Epoch 4/70\n",
            "98/98 [==============================] - ETA: 0s - loss: 0.2977 - mae: 0.4093 - mse: 0.2977"
          ]
        },
        {
          "output_type": "stream",
          "name": "stderr",
          "text": [
            "WARNING:absl:Found untraced functions such as lstm_cell_6_layer_call_fn, lstm_cell_6_layer_call_and_return_conditional_losses, lstm_cell_7_layer_call_fn, lstm_cell_7_layer_call_and_return_conditional_losses while saving (showing 4 of 4). These functions will not be directly callable after loading.\n",
            "WARNING:absl:<keras.layers.recurrent.LSTMCell object at 0x7f1e6a80e650> has the same name 'LSTMCell' as a built-in Keras object. Consider renaming <class 'keras.layers.recurrent.LSTMCell'> to avoid naming conflicts when loading with `tf.keras.models.load_model`. If renaming is not possible, pass the object in the `custom_objects` parameter of the load function.\n",
            "WARNING:absl:<keras.layers.recurrent.LSTMCell object at 0x7f1e6a80e950> has the same name 'LSTMCell' as a built-in Keras object. Consider renaming <class 'keras.layers.recurrent.LSTMCell'> to avoid naming conflicts when loading with `tf.keras.models.load_model`. If renaming is not possible, pass the object in the `custom_objects` parameter of the load function.\n"
          ]
        },
        {
          "output_type": "stream",
          "name": "stdout",
          "text": [
            "\b\b\b\b\b\b\b\b\b\b\b\b\b\b\b\b\b\b\b\b\b\b\b\b\b\b\b\b\b\b\b\b\b\b\b\b\b\b\b\b\b\b\b\b\b\b\b\b\b\b\b\b\b\b\b\b\b\b\b\b\b\b\b\b\b\b\b\b\b\b\b\b\b\b\b\b\b\b\b\b\b\b\b\b\b\b\b\b\b\b\b\r98/98 [==============================] - 115s 1s/step - loss: 0.2977 - mae: 0.4093 - mse: 0.2977 - val_loss: 0.2288 - val_mae: 0.3771 - val_mse: 0.2288 - lr: 0.0010\n",
            "Epoch 5/70\n",
            "98/98 [==============================] - 83s 850ms/step - loss: 0.2848 - mae: 0.3779 - mse: 0.2848 - val_loss: 0.2532 - val_mae: 0.3674 - val_mse: 0.2532 - lr: 0.0010\n",
            "Epoch 6/70\n",
            "98/98 [==============================] - 83s 846ms/step - loss: 0.2984 - mae: 0.3717 - mse: 0.2984 - val_loss: 0.2525 - val_mae: 0.3844 - val_mse: 0.2525 - lr: 0.0010\n",
            "Epoch 7/70\n",
            "98/98 [==============================] - ETA: 0s - loss: 0.2945 - mae: 0.3874 - mse: 0.2945"
          ]
        },
        {
          "output_type": "stream",
          "name": "stderr",
          "text": [
            "WARNING:absl:Found untraced functions such as lstm_cell_6_layer_call_fn, lstm_cell_6_layer_call_and_return_conditional_losses, lstm_cell_7_layer_call_fn, lstm_cell_7_layer_call_and_return_conditional_losses while saving (showing 4 of 4). These functions will not be directly callable after loading.\n",
            "WARNING:absl:<keras.layers.recurrent.LSTMCell object at 0x7f1e6a80e650> has the same name 'LSTMCell' as a built-in Keras object. Consider renaming <class 'keras.layers.recurrent.LSTMCell'> to avoid naming conflicts when loading with `tf.keras.models.load_model`. If renaming is not possible, pass the object in the `custom_objects` parameter of the load function.\n",
            "WARNING:absl:<keras.layers.recurrent.LSTMCell object at 0x7f1e6a80e950> has the same name 'LSTMCell' as a built-in Keras object. Consider renaming <class 'keras.layers.recurrent.LSTMCell'> to avoid naming conflicts when loading with `tf.keras.models.load_model`. If renaming is not possible, pass the object in the `custom_objects` parameter of the load function.\n"
          ]
        },
        {
          "output_type": "stream",
          "name": "stdout",
          "text": [
            "\b\b\b\b\b\b\b\b\b\b\b\b\b\b\b\b\b\b\b\b\b\b\b\b\b\b\b\b\b\b\b\b\b\b\b\b\b\b\b\b\b\b\b\b\b\b\b\b\b\b\b\b\b\b\b\b\b\b\b\b\b\b\b\b\b\b\b\b\b\b\b\b\b\b\b\b\b\b\b\b\b\b\b\b\b\b\b\b\b\b\b\r98/98 [==============================] - 115s 1s/step - loss: 0.2945 - mae: 0.3874 - mse: 0.2945 - val_loss: 0.2029 - val_mae: 0.3525 - val_mse: 0.2029 - lr: 0.0010\n",
            "Epoch 8/70\n",
            "98/98 [==============================] - ETA: 0s - loss: 0.2128 - mae: 0.3477 - mse: 0.2128"
          ]
        },
        {
          "output_type": "stream",
          "name": "stderr",
          "text": [
            "WARNING:absl:Found untraced functions such as lstm_cell_6_layer_call_fn, lstm_cell_6_layer_call_and_return_conditional_losses, lstm_cell_7_layer_call_fn, lstm_cell_7_layer_call_and_return_conditional_losses while saving (showing 4 of 4). These functions will not be directly callable after loading.\n",
            "WARNING:absl:<keras.layers.recurrent.LSTMCell object at 0x7f1e6a80e650> has the same name 'LSTMCell' as a built-in Keras object. Consider renaming <class 'keras.layers.recurrent.LSTMCell'> to avoid naming conflicts when loading with `tf.keras.models.load_model`. If renaming is not possible, pass the object in the `custom_objects` parameter of the load function.\n",
            "WARNING:absl:<keras.layers.recurrent.LSTMCell object at 0x7f1e6a80e950> has the same name 'LSTMCell' as a built-in Keras object. Consider renaming <class 'keras.layers.recurrent.LSTMCell'> to avoid naming conflicts when loading with `tf.keras.models.load_model`. If renaming is not possible, pass the object in the `custom_objects` parameter of the load function.\n"
          ]
        },
        {
          "output_type": "stream",
          "name": "stdout",
          "text": [
            "\b\b\b\b\b\b\b\b\b\b\b\b\b\b\b\b\b\b\b\b\b\b\b\b\b\b\b\b\b\b\b\b\b\b\b\b\b\b\b\b\b\b\b\b\b\b\b\b\b\b\b\b\b\b\b\b\b\b\b\b\b\b\b\b\b\b\b\b\b\b\b\b\b\b\b\b\b\b\b\b\b\b\b\b\b\b\b\b\b\b\b\r98/98 [==============================] - 115s 1s/step - loss: 0.2128 - mae: 0.3477 - mse: 0.2128 - val_loss: 0.1330 - val_mae: 0.2825 - val_mse: 0.1330 - lr: 0.0010\n",
            "Epoch 9/70\n",
            "98/98 [==============================] - 83s 847ms/step - loss: 0.1630 - mae: 0.3090 - mse: 0.1630 - val_loss: 0.1341 - val_mae: 0.2870 - val_mse: 0.1341 - lr: 0.0010\n",
            "Epoch 10/70\n",
            "98/98 [==============================] - 82s 843ms/step - loss: 0.1301 - mae: 0.2700 - mse: 0.1301 - val_loss: 0.1992 - val_mae: 0.2530 - val_mse: 0.1992 - lr: 0.0010\n",
            "Epoch 11/70\n",
            "98/98 [==============================] - ETA: 0s - loss: 0.1152 - mae: 0.2506 - mse: 0.1152"
          ]
        },
        {
          "output_type": "stream",
          "name": "stderr",
          "text": [
            "WARNING:absl:Found untraced functions such as lstm_cell_6_layer_call_fn, lstm_cell_6_layer_call_and_return_conditional_losses, lstm_cell_7_layer_call_fn, lstm_cell_7_layer_call_and_return_conditional_losses while saving (showing 4 of 4). These functions will not be directly callable after loading.\n",
            "WARNING:absl:<keras.layers.recurrent.LSTMCell object at 0x7f1e6a80e650> has the same name 'LSTMCell' as a built-in Keras object. Consider renaming <class 'keras.layers.recurrent.LSTMCell'> to avoid naming conflicts when loading with `tf.keras.models.load_model`. If renaming is not possible, pass the object in the `custom_objects` parameter of the load function.\n",
            "WARNING:absl:<keras.layers.recurrent.LSTMCell object at 0x7f1e6a80e950> has the same name 'LSTMCell' as a built-in Keras object. Consider renaming <class 'keras.layers.recurrent.LSTMCell'> to avoid naming conflicts when loading with `tf.keras.models.load_model`. If renaming is not possible, pass the object in the `custom_objects` parameter of the load function.\n"
          ]
        },
        {
          "output_type": "stream",
          "name": "stdout",
          "text": [
            "\b\b\b\b\b\b\b\b\b\b\b\b\b\b\b\b\b\b\b\b\b\b\b\b\b\b\b\b\b\b\b\b\b\b\b\b\b\b\b\b\b\b\b\b\b\b\b\b\b\b\b\b\b\b\b\b\b\b\b\b\b\b\b\b\b\b\b\b\b\b\b\b\b\b\b\b\b\b\b\b\b\b\b\b\b\b\b\b\b\b\b\r98/98 [==============================] - 113s 1s/step - loss: 0.1152 - mae: 0.2506 - mse: 0.1152 - val_loss: 0.1277 - val_mae: 0.2169 - val_mse: 0.1277 - lr: 0.0010\n",
            "Epoch 12/70\n",
            "98/98 [==============================] - 83s 847ms/step - loss: 0.1421 - mae: 0.2481 - mse: 0.1421 - val_loss: 0.3796 - val_mae: 0.2559 - val_mse: 0.3796 - lr: 0.0010\n",
            "Epoch 13/70\n",
            "98/98 [==============================] - ETA: 0s - loss: 0.2059 - mae: 0.2957 - mse: 0.2059"
          ]
        },
        {
          "output_type": "stream",
          "name": "stderr",
          "text": [
            "WARNING:absl:Found untraced functions such as lstm_cell_6_layer_call_fn, lstm_cell_6_layer_call_and_return_conditional_losses, lstm_cell_7_layer_call_fn, lstm_cell_7_layer_call_and_return_conditional_losses while saving (showing 4 of 4). These functions will not be directly callable after loading.\n",
            "WARNING:absl:<keras.layers.recurrent.LSTMCell object at 0x7f1e6a80e650> has the same name 'LSTMCell' as a built-in Keras object. Consider renaming <class 'keras.layers.recurrent.LSTMCell'> to avoid naming conflicts when loading with `tf.keras.models.load_model`. If renaming is not possible, pass the object in the `custom_objects` parameter of the load function.\n",
            "WARNING:absl:<keras.layers.recurrent.LSTMCell object at 0x7f1e6a80e950> has the same name 'LSTMCell' as a built-in Keras object. Consider renaming <class 'keras.layers.recurrent.LSTMCell'> to avoid naming conflicts when loading with `tf.keras.models.load_model`. If renaming is not possible, pass the object in the `custom_objects` parameter of the load function.\n"
          ]
        },
        {
          "output_type": "stream",
          "name": "stdout",
          "text": [
            "\b\b\b\b\b\b\b\b\b\b\b\b\b\b\b\b\b\b\b\b\b\b\b\b\b\b\b\b\b\b\b\b\b\b\b\b\b\b\b\b\b\b\b\b\b\b\b\b\b\b\b\b\b\b\b\b\b\b\b\b\b\b\b\b\b\b\b\b\b\b\b\b\b\b\b\b\b\b\b\b\b\b\b\b\b\b\b\b\b\b\b\r98/98 [==============================] - 114s 1s/step - loss: 0.2059 - mae: 0.2957 - mse: 0.2059 - val_loss: 0.1252 - val_mae: 0.2522 - val_mse: 0.1252 - lr: 0.0010\n",
            "Epoch 14/70\n",
            "98/98 [==============================] - 83s 846ms/step - loss: 0.1553 - mae: 0.2569 - mse: 0.1553 - val_loss: 0.1490 - val_mae: 0.2572 - val_mse: 0.1490 - lr: 0.0010\n",
            "Epoch 15/70\n",
            "98/98 [==============================] - 83s 843ms/step - loss: 0.1591 - mae: 0.2737 - mse: 0.1591 - val_loss: 0.1313 - val_mae: 0.2650 - val_mse: 0.1313 - lr: 0.0010\n",
            "Epoch 16/70\n",
            "98/98 [==============================] - ETA: 0s - loss: 0.1076 - mae: 0.2307 - mse: 0.1076"
          ]
        },
        {
          "output_type": "stream",
          "name": "stderr",
          "text": [
            "WARNING:absl:Found untraced functions such as lstm_cell_6_layer_call_fn, lstm_cell_6_layer_call_and_return_conditional_losses, lstm_cell_7_layer_call_fn, lstm_cell_7_layer_call_and_return_conditional_losses while saving (showing 4 of 4). These functions will not be directly callable after loading.\n",
            "WARNING:absl:<keras.layers.recurrent.LSTMCell object at 0x7f1e6a80e650> has the same name 'LSTMCell' as a built-in Keras object. Consider renaming <class 'keras.layers.recurrent.LSTMCell'> to avoid naming conflicts when loading with `tf.keras.models.load_model`. If renaming is not possible, pass the object in the `custom_objects` parameter of the load function.\n",
            "WARNING:absl:<keras.layers.recurrent.LSTMCell object at 0x7f1e6a80e950> has the same name 'LSTMCell' as a built-in Keras object. Consider renaming <class 'keras.layers.recurrent.LSTMCell'> to avoid naming conflicts when loading with `tf.keras.models.load_model`. If renaming is not possible, pass the object in the `custom_objects` parameter of the load function.\n"
          ]
        },
        {
          "output_type": "stream",
          "name": "stdout",
          "text": [
            "\b\b\b\b\b\b\b\b\b\b\b\b\b\b\b\b\b\b\b\b\b\b\b\b\b\b\b\b\b\b\b\b\b\b\b\b\b\b\b\b\b\b\b\b\b\b\b\b\b\b\b\b\b\b\b\b\b\b\b\b\b\b\b\b\b\b\b\b\b\b\b\b\b\b\b\b\b\b\b\b\b\b\b\b\b\b\b\b\b\b\b\r98/98 [==============================] - 114s 1s/step - loss: 0.1076 - mae: 0.2307 - mse: 0.1076 - val_loss: 0.1087 - val_mae: 0.2374 - val_mse: 0.1087 - lr: 0.0010\n",
            "Epoch 17/70\n",
            "98/98 [==============================] - ETA: 0s - loss: 0.1097 - mae: 0.2282 - mse: 0.1097"
          ]
        },
        {
          "output_type": "stream",
          "name": "stderr",
          "text": [
            "WARNING:absl:Found untraced functions such as lstm_cell_6_layer_call_fn, lstm_cell_6_layer_call_and_return_conditional_losses, lstm_cell_7_layer_call_fn, lstm_cell_7_layer_call_and_return_conditional_losses while saving (showing 4 of 4). These functions will not be directly callable after loading.\n",
            "WARNING:absl:<keras.layers.recurrent.LSTMCell object at 0x7f1e6a80e650> has the same name 'LSTMCell' as a built-in Keras object. Consider renaming <class 'keras.layers.recurrent.LSTMCell'> to avoid naming conflicts when loading with `tf.keras.models.load_model`. If renaming is not possible, pass the object in the `custom_objects` parameter of the load function.\n",
            "WARNING:absl:<keras.layers.recurrent.LSTMCell object at 0x7f1e6a80e950> has the same name 'LSTMCell' as a built-in Keras object. Consider renaming <class 'keras.layers.recurrent.LSTMCell'> to avoid naming conflicts when loading with `tf.keras.models.load_model`. If renaming is not possible, pass the object in the `custom_objects` parameter of the load function.\n"
          ]
        },
        {
          "output_type": "stream",
          "name": "stdout",
          "text": [
            "\b\b\b\b\b\b\b\b\b\b\b\b\b\b\b\b\b\b\b\b\b\b\b\b\b\b\b\b\b\b\b\b\b\b\b\b\b\b\b\b\b\b\b\b\b\b\b\b\b\b\b\b\b\b\b\b\b\b\b\b\b\b\b\b\b\b\b\b\b\b\b\b\b\b\b\b\b\b\b\b\b\b\b\b\b\b\b\b\b\b\b\r98/98 [==============================] - 114s 1s/step - loss: 0.1097 - mae: 0.2282 - mse: 0.1097 - val_loss: 0.1047 - val_mae: 0.2193 - val_mse: 0.1047 - lr: 0.0010\n",
            "Epoch 18/70\n",
            "98/98 [==============================] - 83s 844ms/step - loss: 0.1123 - mae: 0.2111 - mse: 0.1123 - val_loss: 0.1434 - val_mae: 0.2029 - val_mse: 0.1434 - lr: 0.0010\n",
            "Epoch 19/70\n",
            "98/98 [==============================] - 83s 848ms/step - loss: 0.1046 - mae: 0.2027 - mse: 0.1046 - val_loss: 0.1132 - val_mae: 0.1781 - val_mse: 0.1132 - lr: 0.0010\n",
            "Epoch 20/70\n",
            "98/98 [==============================] - 83s 846ms/step - loss: 0.1528 - mae: 0.2577 - mse: 0.1528 - val_loss: 0.1684 - val_mae: 0.2783 - val_mse: 0.1684 - lr: 0.0010\n",
            "Epoch 21/70\n",
            "98/98 [==============================] - ETA: 0s - loss: 0.1311 - mae: 0.2269 - mse: 0.1311"
          ]
        },
        {
          "output_type": "stream",
          "name": "stderr",
          "text": [
            "WARNING:absl:Found untraced functions such as lstm_cell_6_layer_call_fn, lstm_cell_6_layer_call_and_return_conditional_losses, lstm_cell_7_layer_call_fn, lstm_cell_7_layer_call_and_return_conditional_losses while saving (showing 4 of 4). These functions will not be directly callable after loading.\n",
            "WARNING:absl:<keras.layers.recurrent.LSTMCell object at 0x7f1e6a80e650> has the same name 'LSTMCell' as a built-in Keras object. Consider renaming <class 'keras.layers.recurrent.LSTMCell'> to avoid naming conflicts when loading with `tf.keras.models.load_model`. If renaming is not possible, pass the object in the `custom_objects` parameter of the load function.\n",
            "WARNING:absl:<keras.layers.recurrent.LSTMCell object at 0x7f1e6a80e950> has the same name 'LSTMCell' as a built-in Keras object. Consider renaming <class 'keras.layers.recurrent.LSTMCell'> to avoid naming conflicts when loading with `tf.keras.models.load_model`. If renaming is not possible, pass the object in the `custom_objects` parameter of the load function.\n"
          ]
        },
        {
          "output_type": "stream",
          "name": "stdout",
          "text": [
            "\b\b\b\b\b\b\b\b\b\b\b\b\b\b\b\b\b\b\b\b\b\b\b\b\b\b\b\b\b\b\b\b\b\b\b\b\b\b\b\b\b\b\b\b\b\b\b\b\b\b\b\b\b\b\b\b\b\b\b\b\b\b\b\b\b\b\b\b\b\b\b\b\b\b\b\b\b\b\b\b\b\b\b\b\b\b\b\b\b\b\b\r98/98 [==============================] - 114s 1s/step - loss: 0.1311 - mae: 0.2269 - mse: 0.1311 - val_loss: 0.0622 - val_mae: 0.1789 - val_mse: 0.0622 - lr: 0.0010\n",
            "Epoch 22/70\n",
            "98/98 [==============================] - ETA: 0s - loss: 0.0974 - mae: 0.2017 - mse: 0.0974"
          ]
        },
        {
          "output_type": "stream",
          "name": "stderr",
          "text": [
            "WARNING:absl:Found untraced functions such as lstm_cell_6_layer_call_fn, lstm_cell_6_layer_call_and_return_conditional_losses, lstm_cell_7_layer_call_fn, lstm_cell_7_layer_call_and_return_conditional_losses while saving (showing 4 of 4). These functions will not be directly callable after loading.\n",
            "WARNING:absl:<keras.layers.recurrent.LSTMCell object at 0x7f1e6a80e650> has the same name 'LSTMCell' as a built-in Keras object. Consider renaming <class 'keras.layers.recurrent.LSTMCell'> to avoid naming conflicts when loading with `tf.keras.models.load_model`. If renaming is not possible, pass the object in the `custom_objects` parameter of the load function.\n",
            "WARNING:absl:<keras.layers.recurrent.LSTMCell object at 0x7f1e6a80e950> has the same name 'LSTMCell' as a built-in Keras object. Consider renaming <class 'keras.layers.recurrent.LSTMCell'> to avoid naming conflicts when loading with `tf.keras.models.load_model`. If renaming is not possible, pass the object in the `custom_objects` parameter of the load function.\n"
          ]
        },
        {
          "output_type": "stream",
          "name": "stdout",
          "text": [
            "\b\b\b\b\b\b\b\b\b\b\b\b\b\b\b\b\b\b\b\b\b\b\b\b\b\b\b\b\b\b\b\b\b\b\b\b\b\b\b\b\b\b\b\b\b\b\b\b\b\b\b\b\b\b\b\b\b\b\b\b\b\b\b\b\b\b\b\b\b\b\b\b\b\b\b\b\b\b\b\b\b\b\b\b\b\b\b\b\b\b\b\r98/98 [==============================] - 116s 1s/step - loss: 0.0974 - mae: 0.2017 - mse: 0.0974 - val_loss: 0.0554 - val_mae: 0.1591 - val_mse: 0.0554 - lr: 0.0010\n",
            "Epoch 23/70\n",
            "98/98 [==============================] - 83s 848ms/step - loss: 0.0502 - mae: 0.1544 - mse: 0.0502 - val_loss: 0.0859 - val_mae: 0.1767 - val_mse: 0.0859 - lr: 0.0010\n",
            "Epoch 24/70\n",
            "98/98 [==============================] - 83s 844ms/step - loss: 0.0655 - mae: 0.1605 - mse: 0.0655 - val_loss: 0.0912 - val_mae: 0.1737 - val_mse: 0.0912 - lr: 0.0010\n",
            "Epoch 25/70\n",
            "98/98 [==============================] - ETA: 0s - loss: 0.0557 - mae: 0.1422 - mse: 0.0557"
          ]
        },
        {
          "output_type": "stream",
          "name": "stderr",
          "text": [
            "WARNING:absl:Found untraced functions such as lstm_cell_6_layer_call_fn, lstm_cell_6_layer_call_and_return_conditional_losses, lstm_cell_7_layer_call_fn, lstm_cell_7_layer_call_and_return_conditional_losses while saving (showing 4 of 4). These functions will not be directly callable after loading.\n",
            "WARNING:absl:<keras.layers.recurrent.LSTMCell object at 0x7f1e6a80e650> has the same name 'LSTMCell' as a built-in Keras object. Consider renaming <class 'keras.layers.recurrent.LSTMCell'> to avoid naming conflicts when loading with `tf.keras.models.load_model`. If renaming is not possible, pass the object in the `custom_objects` parameter of the load function.\n",
            "WARNING:absl:<keras.layers.recurrent.LSTMCell object at 0x7f1e6a80e950> has the same name 'LSTMCell' as a built-in Keras object. Consider renaming <class 'keras.layers.recurrent.LSTMCell'> to avoid naming conflicts when loading with `tf.keras.models.load_model`. If renaming is not possible, pass the object in the `custom_objects` parameter of the load function.\n"
          ]
        },
        {
          "output_type": "stream",
          "name": "stdout",
          "text": [
            "\b\b\b\b\b\b\b\b\b\b\b\b\b\b\b\b\b\b\b\b\b\b\b\b\b\b\b\b\b\b\b\b\b\b\b\b\b\b\b\b\b\b\b\b\b\b\b\b\b\b\b\b\b\b\b\b\b\b\b\b\b\b\b\b\b\b\b\b\b\b\b\b\b\b\b\b\b\b\b\b\b\b\b\b\b\b\b\b\b\b\b\r98/98 [==============================] - 116s 1s/step - loss: 0.0557 - mae: 0.1422 - mse: 0.0557 - val_loss: 0.0342 - val_mae: 0.1374 - val_mse: 0.0342 - lr: 0.0010\n",
            "Epoch 26/70\n",
            "98/98 [==============================] - 83s 848ms/step - loss: 0.0679 - mae: 0.1543 - mse: 0.0679 - val_loss: 0.0673 - val_mae: 0.1803 - val_mse: 0.0673 - lr: 0.0010\n",
            "Epoch 27/70\n",
            "98/98 [==============================] - 83s 843ms/step - loss: 0.0921 - mae: 0.1841 - mse: 0.0921 - val_loss: 0.0435 - val_mae: 0.1491 - val_mse: 0.0435 - lr: 0.0010\n",
            "Epoch 28/70\n",
            "98/98 [==============================] - 83s 846ms/step - loss: 0.0697 - mae: 0.1576 - mse: 0.0697 - val_loss: 0.1230 - val_mae: 0.2707 - val_mse: 0.1230 - lr: 0.0010\n",
            "Epoch 29/70\n",
            "98/98 [==============================] - 83s 844ms/step - loss: 0.0880 - mae: 0.1817 - mse: 0.0880 - val_loss: 0.0485 - val_mae: 0.1668 - val_mse: 0.0485 - lr: 0.0010\n",
            "Epoch 30/70\n",
            "98/98 [==============================] - ETA: 0s - loss: 0.0624 - mae: 0.1571 - mse: 0.0624"
          ]
        },
        {
          "output_type": "stream",
          "name": "stderr",
          "text": [
            "WARNING:absl:Found untraced functions such as lstm_cell_6_layer_call_fn, lstm_cell_6_layer_call_and_return_conditional_losses, lstm_cell_7_layer_call_fn, lstm_cell_7_layer_call_and_return_conditional_losses while saving (showing 4 of 4). These functions will not be directly callable after loading.\n",
            "WARNING:absl:<keras.layers.recurrent.LSTMCell object at 0x7f1e6a80e650> has the same name 'LSTMCell' as a built-in Keras object. Consider renaming <class 'keras.layers.recurrent.LSTMCell'> to avoid naming conflicts when loading with `tf.keras.models.load_model`. If renaming is not possible, pass the object in the `custom_objects` parameter of the load function.\n",
            "WARNING:absl:<keras.layers.recurrent.LSTMCell object at 0x7f1e6a80e950> has the same name 'LSTMCell' as a built-in Keras object. Consider renaming <class 'keras.layers.recurrent.LSTMCell'> to avoid naming conflicts when loading with `tf.keras.models.load_model`. If renaming is not possible, pass the object in the `custom_objects` parameter of the load function.\n"
          ]
        },
        {
          "output_type": "stream",
          "name": "stdout",
          "text": [
            "\b\b\b\b\b\b\b\b\b\b\b\b\b\b\b\b\b\b\b\b\b\b\b\b\b\b\b\b\b\b\b\b\b\b\b\b\b\b\b\b\b\b\b\b\b\b\b\b\b\b\b\b\b\b\b\b\b\b\b\b\b\b\b\b\b\b\b\b\b\b\b\b\b\b\b\b\b\b\b\b\b\b\b\b\b\b\b\b\b\b\b\r98/98 [==============================] - 117s 1s/step - loss: 0.0624 - mae: 0.1571 - mse: 0.0624 - val_loss: 0.0289 - val_mae: 0.1330 - val_mse: 0.0289 - lr: 0.0010\n",
            "Epoch 31/70\n",
            "98/98 [==============================] - 83s 848ms/step - loss: 0.0405 - mae: 0.1302 - mse: 0.0405 - val_loss: 0.0470 - val_mae: 0.1141 - val_mse: 0.0470 - lr: 0.0010\n",
            "Epoch 32/70\n",
            "98/98 [==============================] - 83s 847ms/step - loss: 0.0575 - mae: 0.1348 - mse: 0.0575 - val_loss: 0.0583 - val_mae: 0.1833 - val_mse: 0.0583 - lr: 0.0010\n",
            "Epoch 33/70\n",
            "98/98 [==============================] - ETA: 0s - loss: 0.0597 - mae: 0.1504 - mse: 0.0597"
          ]
        },
        {
          "output_type": "stream",
          "name": "stderr",
          "text": [
            "WARNING:absl:Found untraced functions such as lstm_cell_6_layer_call_fn, lstm_cell_6_layer_call_and_return_conditional_losses, lstm_cell_7_layer_call_fn, lstm_cell_7_layer_call_and_return_conditional_losses while saving (showing 4 of 4). These functions will not be directly callable after loading.\n",
            "WARNING:absl:<keras.layers.recurrent.LSTMCell object at 0x7f1e6a80e650> has the same name 'LSTMCell' as a built-in Keras object. Consider renaming <class 'keras.layers.recurrent.LSTMCell'> to avoid naming conflicts when loading with `tf.keras.models.load_model`. If renaming is not possible, pass the object in the `custom_objects` parameter of the load function.\n",
            "WARNING:absl:<keras.layers.recurrent.LSTMCell object at 0x7f1e6a80e950> has the same name 'LSTMCell' as a built-in Keras object. Consider renaming <class 'keras.layers.recurrent.LSTMCell'> to avoid naming conflicts when loading with `tf.keras.models.load_model`. If renaming is not possible, pass the object in the `custom_objects` parameter of the load function.\n"
          ]
        },
        {
          "output_type": "stream",
          "name": "stdout",
          "text": [
            "\b\b\b\b\b\b\b\b\b\b\b\b\b\b\b\b\b\b\b\b\b\b\b\b\b\b\b\b\b\b\b\b\b\b\b\b\b\b\b\b\b\b\b\b\b\b\b\b\b\b\b\b\b\b\b\b\b\b\b\b\b\b\b\b\b\b\b\b\b\b\b\b\b\b\b\b\b\b\b\b\b\b\b\b\b\b\b\b\b\b\b\r98/98 [==============================] - 118s 1s/step - loss: 0.0597 - mae: 0.1504 - mse: 0.0597 - val_loss: 0.0255 - val_mae: 0.1079 - val_mse: 0.0255 - lr: 0.0010\n",
            "Epoch 34/70\n",
            "98/98 [==============================] - 83s 847ms/step - loss: 0.0644 - mae: 0.1507 - mse: 0.0644 - val_loss: 0.0323 - val_mae: 0.1239 - val_mse: 0.0323 - lr: 0.0010\n",
            "Epoch 35/70\n",
            "98/98 [==============================] - 83s 844ms/step - loss: 0.0556 - mae: 0.1429 - mse: 0.0556 - val_loss: 0.0694 - val_mae: 0.1338 - val_mse: 0.0694 - lr: 0.0010\n",
            "Epoch 36/70\n",
            "98/98 [==============================] - 82s 839ms/step - loss: 0.0363 - mae: 0.1233 - mse: 0.0363 - val_loss: 0.0769 - val_mae: 0.1451 - val_mse: 0.0769 - lr: 0.0010\n",
            "Epoch 37/70\n",
            "98/98 [==============================] - 83s 844ms/step - loss: 0.0502 - mae: 0.1355 - mse: 0.0502 - val_loss: 0.0493 - val_mae: 0.1149 - val_mse: 0.0493 - lr: 0.0010\n",
            "Epoch 38/70\n",
            "98/98 [==============================] - 82s 842ms/step - loss: 0.0471 - mae: 0.1439 - mse: 0.0471 - val_loss: 0.0562 - val_mae: 0.1203 - val_mse: 0.0562 - lr: 0.0010\n",
            "Epoch 39/70\n",
            "98/98 [==============================] - ETA: 0s - loss: 0.0483 - mae: 0.1430 - mse: 0.0483\n",
            "Epoch 39: ReduceLROnPlateau reducing learning rate to 0.00010000000474974513.\n",
            "98/98 [==============================] - 82s 842ms/step - loss: 0.0483 - mae: 0.1430 - mse: 0.0483 - val_loss: 0.0562 - val_mae: 0.1223 - val_mse: 0.0562 - lr: 0.0010\n",
            "Epoch 40/70\n",
            "98/98 [==============================] - 83s 849ms/step - loss: 0.0329 - mae: 0.1094 - mse: 0.0329 - val_loss: 0.0341 - val_mae: 0.1049 - val_mse: 0.0341 - lr: 1.0000e-04\n",
            "Epoch 41/70\n",
            "98/98 [==============================] - ETA: 0s - loss: 0.0294 - mae: 0.1006 - mse: 0.0294"
          ]
        },
        {
          "output_type": "stream",
          "name": "stderr",
          "text": [
            "WARNING:absl:Found untraced functions such as lstm_cell_6_layer_call_fn, lstm_cell_6_layer_call_and_return_conditional_losses, lstm_cell_7_layer_call_fn, lstm_cell_7_layer_call_and_return_conditional_losses while saving (showing 4 of 4). These functions will not be directly callable after loading.\n",
            "WARNING:absl:<keras.layers.recurrent.LSTMCell object at 0x7f1e6a80e650> has the same name 'LSTMCell' as a built-in Keras object. Consider renaming <class 'keras.layers.recurrent.LSTMCell'> to avoid naming conflicts when loading with `tf.keras.models.load_model`. If renaming is not possible, pass the object in the `custom_objects` parameter of the load function.\n",
            "WARNING:absl:<keras.layers.recurrent.LSTMCell object at 0x7f1e6a80e950> has the same name 'LSTMCell' as a built-in Keras object. Consider renaming <class 'keras.layers.recurrent.LSTMCell'> to avoid naming conflicts when loading with `tf.keras.models.load_model`. If renaming is not possible, pass the object in the `custom_objects` parameter of the load function.\n"
          ]
        },
        {
          "output_type": "stream",
          "name": "stdout",
          "text": [
            "\b\b\b\b\b\b\b\b\b\b\b\b\b\b\b\b\b\b\b\b\b\b\b\b\b\b\b\b\b\b\b\b\b\b\b\b\b\b\b\b\b\b\b\b\b\b\b\b\b\b\b\b\b\b\b\b\b\b\b\b\b\b\b\b\b\b\b\b\b\b\b\b\b\b\b\b\b\b\b\b\b\b\b\b\b\b\b\b\b\b\b\r98/98 [==============================] - 117s 1s/step - loss: 0.0294 - mae: 0.1006 - mse: 0.0294 - val_loss: 0.0168 - val_mae: 0.0882 - val_mse: 0.0168 - lr: 1.0000e-04\n",
            "Epoch 42/70\n",
            "98/98 [==============================] - 83s 846ms/step - loss: 0.0182 - mae: 0.0875 - mse: 0.0182 - val_loss: 0.0179 - val_mae: 0.0813 - val_mse: 0.0179 - lr: 1.0000e-04\n",
            "Epoch 43/70\n",
            "98/98 [==============================] - ETA: 0s - loss: 0.0149 - mae: 0.0808 - mse: 0.0149"
          ]
        },
        {
          "output_type": "stream",
          "name": "stderr",
          "text": [
            "WARNING:absl:Found untraced functions such as lstm_cell_6_layer_call_fn, lstm_cell_6_layer_call_and_return_conditional_losses, lstm_cell_7_layer_call_fn, lstm_cell_7_layer_call_and_return_conditional_losses while saving (showing 4 of 4). These functions will not be directly callable after loading.\n",
            "WARNING:absl:<keras.layers.recurrent.LSTMCell object at 0x7f1e6a80e650> has the same name 'LSTMCell' as a built-in Keras object. Consider renaming <class 'keras.layers.recurrent.LSTMCell'> to avoid naming conflicts when loading with `tf.keras.models.load_model`. If renaming is not possible, pass the object in the `custom_objects` parameter of the load function.\n",
            "WARNING:absl:<keras.layers.recurrent.LSTMCell object at 0x7f1e6a80e950> has the same name 'LSTMCell' as a built-in Keras object. Consider renaming <class 'keras.layers.recurrent.LSTMCell'> to avoid naming conflicts when loading with `tf.keras.models.load_model`. If renaming is not possible, pass the object in the `custom_objects` parameter of the load function.\n"
          ]
        },
        {
          "output_type": "stream",
          "name": "stdout",
          "text": [
            "\b\b\b\b\b\b\b\b\b\b\b\b\b\b\b\b\b\b\b\b\b\b\b\b\b\b\b\b\b\b\b\b\b\b\b\b\b\b\b\b\b\b\b\b\b\b\b\b\b\b\b\b\b\b\b\b\b\b\b\b\b\b\b\b\b\b\b\b\b\b\b\b\b\b\b\b\b\b\b\b\b\b\b\b\b\b\b\b\b\b\b\r98/98 [==============================] - 117s 1s/step - loss: 0.0149 - mae: 0.0808 - mse: 0.0149 - val_loss: 0.0163 - val_mae: 0.0769 - val_mse: 0.0163 - lr: 1.0000e-04\n",
            "Epoch 44/70\n",
            "98/98 [==============================] - ETA: 0s - loss: 0.0113 - mae: 0.0727 - mse: 0.0113"
          ]
        },
        {
          "output_type": "stream",
          "name": "stderr",
          "text": [
            "WARNING:absl:Found untraced functions such as lstm_cell_6_layer_call_fn, lstm_cell_6_layer_call_and_return_conditional_losses, lstm_cell_7_layer_call_fn, lstm_cell_7_layer_call_and_return_conditional_losses while saving (showing 4 of 4). These functions will not be directly callable after loading.\n",
            "WARNING:absl:<keras.layers.recurrent.LSTMCell object at 0x7f1e6a80e650> has the same name 'LSTMCell' as a built-in Keras object. Consider renaming <class 'keras.layers.recurrent.LSTMCell'> to avoid naming conflicts when loading with `tf.keras.models.load_model`. If renaming is not possible, pass the object in the `custom_objects` parameter of the load function.\n",
            "WARNING:absl:<keras.layers.recurrent.LSTMCell object at 0x7f1e6a80e950> has the same name 'LSTMCell' as a built-in Keras object. Consider renaming <class 'keras.layers.recurrent.LSTMCell'> to avoid naming conflicts when loading with `tf.keras.models.load_model`. If renaming is not possible, pass the object in the `custom_objects` parameter of the load function.\n"
          ]
        },
        {
          "output_type": "stream",
          "name": "stdout",
          "text": [
            "\b\b\b\b\b\b\b\b\b\b\b\b\b\b\b\b\b\b\b\b\b\b\b\b\b\b\b\b\b\b\b\b\b\b\b\b\b\b\b\b\b\b\b\b\b\b\b\b\b\b\b\b\b\b\b\b\b\b\b\b\b\b\b\b\b\b\b\b\b\b\b\b\b\b\b\b\b\b\b\b\b\b\b\b\b\b\b\b\b\b\b\r98/98 [==============================] - 117s 1s/step - loss: 0.0113 - mae: 0.0727 - mse: 0.0113 - val_loss: 0.0079 - val_mae: 0.0676 - val_mse: 0.0079 - lr: 1.0000e-04\n",
            "Epoch 45/70\n",
            "98/98 [==============================] - ETA: 0s - loss: 0.0098 - mae: 0.0670 - mse: 0.0098"
          ]
        },
        {
          "output_type": "stream",
          "name": "stderr",
          "text": [
            "WARNING:absl:Found untraced functions such as lstm_cell_6_layer_call_fn, lstm_cell_6_layer_call_and_return_conditional_losses, lstm_cell_7_layer_call_fn, lstm_cell_7_layer_call_and_return_conditional_losses while saving (showing 4 of 4). These functions will not be directly callable after loading.\n",
            "WARNING:absl:<keras.layers.recurrent.LSTMCell object at 0x7f1e6a80e650> has the same name 'LSTMCell' as a built-in Keras object. Consider renaming <class 'keras.layers.recurrent.LSTMCell'> to avoid naming conflicts when loading with `tf.keras.models.load_model`. If renaming is not possible, pass the object in the `custom_objects` parameter of the load function.\n",
            "WARNING:absl:<keras.layers.recurrent.LSTMCell object at 0x7f1e6a80e950> has the same name 'LSTMCell' as a built-in Keras object. Consider renaming <class 'keras.layers.recurrent.LSTMCell'> to avoid naming conflicts when loading with `tf.keras.models.load_model`. If renaming is not possible, pass the object in the `custom_objects` parameter of the load function.\n"
          ]
        },
        {
          "output_type": "stream",
          "name": "stdout",
          "text": [
            "\b\b\b\b\b\b\b\b\b\b\b\b\b\b\b\b\b\b\b\b\b\b\b\b\b\b\b\b\b\b\b\b\b\b\b\b\b\b\b\b\b\b\b\b\b\b\b\b\b\b\b\b\b\b\b\b\b\b\b\b\b\b\b\b\b\b\b\b\b\b\b\b\b\b\b\b\b\b\b\b\b\b\b\b\b\b\b\b\b\b\b\r98/98 [==============================] - 114s 1s/step - loss: 0.0098 - mae: 0.0670 - mse: 0.0098 - val_loss: 0.0066 - val_mae: 0.0618 - val_mse: 0.0066 - lr: 1.0000e-04\n",
            "Epoch 46/70\n",
            "98/98 [==============================] - ETA: 0s - loss: 0.0068 - mae: 0.0611 - mse: 0.0068"
          ]
        },
        {
          "output_type": "stream",
          "name": "stderr",
          "text": [
            "WARNING:absl:Found untraced functions such as lstm_cell_6_layer_call_fn, lstm_cell_6_layer_call_and_return_conditional_losses, lstm_cell_7_layer_call_fn, lstm_cell_7_layer_call_and_return_conditional_losses while saving (showing 4 of 4). These functions will not be directly callable after loading.\n",
            "WARNING:absl:<keras.layers.recurrent.LSTMCell object at 0x7f1e6a80e650> has the same name 'LSTMCell' as a built-in Keras object. Consider renaming <class 'keras.layers.recurrent.LSTMCell'> to avoid naming conflicts when loading with `tf.keras.models.load_model`. If renaming is not possible, pass the object in the `custom_objects` parameter of the load function.\n",
            "WARNING:absl:<keras.layers.recurrent.LSTMCell object at 0x7f1e6a80e950> has the same name 'LSTMCell' as a built-in Keras object. Consider renaming <class 'keras.layers.recurrent.LSTMCell'> to avoid naming conflicts when loading with `tf.keras.models.load_model`. If renaming is not possible, pass the object in the `custom_objects` parameter of the load function.\n"
          ]
        },
        {
          "output_type": "stream",
          "name": "stdout",
          "text": [
            "\b\b\b\b\b\b\b\b\b\b\b\b\b\b\b\b\b\b\b\b\b\b\b\b\b\b\b\b\b\b\b\b\b\b\b\b\b\b\b\b\b\b\b\b\b\b\b\b\b\b\b\b\b\b\b\b\b\b\b\b\b\b\b\b\b\b\b\b\b\b\b\b\b\b\b\b\b\b\b\b\b\b\b\b\b\b\b\b\b\b\b\r98/98 [==============================] - 113s 1s/step - loss: 0.0068 - mae: 0.0611 - mse: 0.0068 - val_loss: 0.0058 - val_mae: 0.0567 - val_mse: 0.0058 - lr: 1.0000e-04\n",
            "Epoch 47/70\n",
            "98/98 [==============================] - 83s 848ms/step - loss: 0.0062 - mae: 0.0575 - mse: 0.0062 - val_loss: 0.0060 - val_mae: 0.0543 - val_mse: 0.0060 - lr: 1.0000e-04\n",
            "Epoch 48/70\n",
            "98/98 [==============================] - ETA: 0s - loss: 0.0051 - mae: 0.0526 - mse: 0.0051"
          ]
        },
        {
          "output_type": "stream",
          "name": "stderr",
          "text": [
            "WARNING:absl:Found untraced functions such as lstm_cell_6_layer_call_fn, lstm_cell_6_layer_call_and_return_conditional_losses, lstm_cell_7_layer_call_fn, lstm_cell_7_layer_call_and_return_conditional_losses while saving (showing 4 of 4). These functions will not be directly callable after loading.\n",
            "WARNING:absl:<keras.layers.recurrent.LSTMCell object at 0x7f1e6a80e650> has the same name 'LSTMCell' as a built-in Keras object. Consider renaming <class 'keras.layers.recurrent.LSTMCell'> to avoid naming conflicts when loading with `tf.keras.models.load_model`. If renaming is not possible, pass the object in the `custom_objects` parameter of the load function.\n",
            "WARNING:absl:<keras.layers.recurrent.LSTMCell object at 0x7f1e6a80e950> has the same name 'LSTMCell' as a built-in Keras object. Consider renaming <class 'keras.layers.recurrent.LSTMCell'> to avoid naming conflicts when loading with `tf.keras.models.load_model`. If renaming is not possible, pass the object in the `custom_objects` parameter of the load function.\n"
          ]
        },
        {
          "output_type": "stream",
          "name": "stdout",
          "text": [
            "\b\b\b\b\b\b\b\b\b\b\b\b\b\b\b\b\b\b\b\b\b\b\b\b\b\b\b\b\b\b\b\b\b\b\b\b\b\b\b\b\b\b\b\b\b\b\b\b\b\b\b\b\b\b\b\b\b\b\b\b\b\b\b\b\b\b\b\b\b\b\b\b\b\b\b\b\b\b\b\b\b\b\b\b\b\b\b\b\b\b\b\r98/98 [==============================] - 113s 1s/step - loss: 0.0051 - mae: 0.0526 - mse: 0.0051 - val_loss: 0.0044 - val_mae: 0.0504 - val_mse: 0.0044 - lr: 1.0000e-04\n",
            "Epoch 49/70\n",
            "98/98 [==============================] - ETA: 0s - loss: 0.0043 - mae: 0.0491 - mse: 0.0043"
          ]
        },
        {
          "output_type": "stream",
          "name": "stderr",
          "text": [
            "WARNING:absl:Found untraced functions such as lstm_cell_6_layer_call_fn, lstm_cell_6_layer_call_and_return_conditional_losses, lstm_cell_7_layer_call_fn, lstm_cell_7_layer_call_and_return_conditional_losses while saving (showing 4 of 4). These functions will not be directly callable after loading.\n",
            "WARNING:absl:<keras.layers.recurrent.LSTMCell object at 0x7f1e6a80e650> has the same name 'LSTMCell' as a built-in Keras object. Consider renaming <class 'keras.layers.recurrent.LSTMCell'> to avoid naming conflicts when loading with `tf.keras.models.load_model`. If renaming is not possible, pass the object in the `custom_objects` parameter of the load function.\n",
            "WARNING:absl:<keras.layers.recurrent.LSTMCell object at 0x7f1e6a80e950> has the same name 'LSTMCell' as a built-in Keras object. Consider renaming <class 'keras.layers.recurrent.LSTMCell'> to avoid naming conflicts when loading with `tf.keras.models.load_model`. If renaming is not possible, pass the object in the `custom_objects` parameter of the load function.\n"
          ]
        },
        {
          "output_type": "stream",
          "name": "stdout",
          "text": [
            "\b\b\b\b\b\b\b\b\b\b\b\b\b\b\b\b\b\b\b\b\b\b\b\b\b\b\b\b\b\b\b\b\b\b\b\b\b\b\b\b\b\b\b\b\b\b\b\b\b\b\b\b\b\b\b\b\b\b\b\b\b\b\b\b\b\b\b\b\b\b\b\b\b\b\b\b\b\b\b\b\b\b\b\b\b\b\b\b\b\b\b\r98/98 [==============================] - 113s 1s/step - loss: 0.0043 - mae: 0.0491 - mse: 0.0043 - val_loss: 0.0037 - val_mae: 0.0457 - val_mse: 0.0037 - lr: 1.0000e-04\n",
            "Epoch 50/70\n",
            "98/98 [==============================] - ETA: 0s - loss: 0.0039 - mae: 0.0461 - mse: 0.0039"
          ]
        },
        {
          "output_type": "stream",
          "name": "stderr",
          "text": [
            "WARNING:absl:Found untraced functions such as lstm_cell_6_layer_call_fn, lstm_cell_6_layer_call_and_return_conditional_losses, lstm_cell_7_layer_call_fn, lstm_cell_7_layer_call_and_return_conditional_losses while saving (showing 4 of 4). These functions will not be directly callable after loading.\n",
            "WARNING:absl:<keras.layers.recurrent.LSTMCell object at 0x7f1e6a80e650> has the same name 'LSTMCell' as a built-in Keras object. Consider renaming <class 'keras.layers.recurrent.LSTMCell'> to avoid naming conflicts when loading with `tf.keras.models.load_model`. If renaming is not possible, pass the object in the `custom_objects` parameter of the load function.\n",
            "WARNING:absl:<keras.layers.recurrent.LSTMCell object at 0x7f1e6a80e950> has the same name 'LSTMCell' as a built-in Keras object. Consider renaming <class 'keras.layers.recurrent.LSTMCell'> to avoid naming conflicts when loading with `tf.keras.models.load_model`. If renaming is not possible, pass the object in the `custom_objects` parameter of the load function.\n"
          ]
        },
        {
          "output_type": "stream",
          "name": "stdout",
          "text": [
            "\b\b\b\b\b\b\b\b\b\b\b\b\b\b\b\b\b\b\b\b\b\b\b\b\b\b\b\b\b\b\b\b\b\b\b\b\b\b\b\b\b\b\b\b\b\b\b\b\b\b\b\b\b\b\b\b\b\b\b\b\b\b\b\b\b\b\b\b\b\b\b\b\b\b\b\b\b\b\b\b\b\b\b\b\b\b\b\b\b\b\b\r98/98 [==============================] - 114s 1s/step - loss: 0.0039 - mae: 0.0461 - mse: 0.0039 - val_loss: 0.0035 - val_mae: 0.0435 - val_mse: 0.0035 - lr: 1.0000e-04\n",
            "Epoch 51/70\n",
            "98/98 [==============================] - ETA: 0s - loss: 0.0034 - mae: 0.0433 - mse: 0.0034"
          ]
        },
        {
          "output_type": "stream",
          "name": "stderr",
          "text": [
            "WARNING:absl:Found untraced functions such as lstm_cell_6_layer_call_fn, lstm_cell_6_layer_call_and_return_conditional_losses, lstm_cell_7_layer_call_fn, lstm_cell_7_layer_call_and_return_conditional_losses while saving (showing 4 of 4). These functions will not be directly callable after loading.\n",
            "WARNING:absl:<keras.layers.recurrent.LSTMCell object at 0x7f1e6a80e650> has the same name 'LSTMCell' as a built-in Keras object. Consider renaming <class 'keras.layers.recurrent.LSTMCell'> to avoid naming conflicts when loading with `tf.keras.models.load_model`. If renaming is not possible, pass the object in the `custom_objects` parameter of the load function.\n",
            "WARNING:absl:<keras.layers.recurrent.LSTMCell object at 0x7f1e6a80e950> has the same name 'LSTMCell' as a built-in Keras object. Consider renaming <class 'keras.layers.recurrent.LSTMCell'> to avoid naming conflicts when loading with `tf.keras.models.load_model`. If renaming is not possible, pass the object in the `custom_objects` parameter of the load function.\n"
          ]
        },
        {
          "output_type": "stream",
          "name": "stdout",
          "text": [
            "\b\b\b\b\b\b\b\b\b\b\b\b\b\b\b\b\b\b\b\b\b\b\b\b\b\b\b\b\b\b\b\b\b\b\b\b\b\b\b\b\b\b\b\b\b\b\b\b\b\b\b\b\b\b\b\b\b\b\b\b\b\b\b\b\b\b\b\b\b\b\b\b\b\b\b\b\b\b\b\b\b\b\b\b\b\b\b\b\b\b\b\r98/98 [==============================] - 114s 1s/step - loss: 0.0034 - mae: 0.0433 - mse: 0.0034 - val_loss: 0.0029 - val_mae: 0.0400 - val_mse: 0.0029 - lr: 1.0000e-04\n",
            "Epoch 52/70\n",
            "98/98 [==============================] - ETA: 0s - loss: 0.0030 - mae: 0.0403 - mse: 0.0030"
          ]
        },
        {
          "output_type": "stream",
          "name": "stderr",
          "text": [
            "WARNING:absl:Found untraced functions such as lstm_cell_6_layer_call_fn, lstm_cell_6_layer_call_and_return_conditional_losses, lstm_cell_7_layer_call_fn, lstm_cell_7_layer_call_and_return_conditional_losses while saving (showing 4 of 4). These functions will not be directly callable after loading.\n",
            "WARNING:absl:<keras.layers.recurrent.LSTMCell object at 0x7f1e6a80e650> has the same name 'LSTMCell' as a built-in Keras object. Consider renaming <class 'keras.layers.recurrent.LSTMCell'> to avoid naming conflicts when loading with `tf.keras.models.load_model`. If renaming is not possible, pass the object in the `custom_objects` parameter of the load function.\n",
            "WARNING:absl:<keras.layers.recurrent.LSTMCell object at 0x7f1e6a80e950> has the same name 'LSTMCell' as a built-in Keras object. Consider renaming <class 'keras.layers.recurrent.LSTMCell'> to avoid naming conflicts when loading with `tf.keras.models.load_model`. If renaming is not possible, pass the object in the `custom_objects` parameter of the load function.\n"
          ]
        },
        {
          "output_type": "stream",
          "name": "stdout",
          "text": [
            "\b\b\b\b\b\b\b\b\b\b\b\b\b\b\b\b\b\b\b\b\b\b\b\b\b\b\b\b\b\b\b\b\b\b\b\b\b\b\b\b\b\b\b\b\b\b\b\b\b\b\b\b\b\b\b\b\b\b\b\b\b\b\b\b\b\b\b\b\b\b\b\b\b\b\b\b\b\b\b\b\b\b\b\b\b\b\b\b\b\b\b\r98/98 [==============================] - 115s 1s/step - loss: 0.0030 - mae: 0.0403 - mse: 0.0030 - val_loss: 0.0026 - val_mae: 0.0376 - val_mse: 0.0026 - lr: 1.0000e-04\n",
            "Epoch 53/70\n",
            "98/98 [==============================] - ETA: 0s - loss: 0.0028 - mae: 0.0386 - mse: 0.0028"
          ]
        },
        {
          "output_type": "stream",
          "name": "stderr",
          "text": [
            "WARNING:absl:Found untraced functions such as lstm_cell_6_layer_call_fn, lstm_cell_6_layer_call_and_return_conditional_losses, lstm_cell_7_layer_call_fn, lstm_cell_7_layer_call_and_return_conditional_losses while saving (showing 4 of 4). These functions will not be directly callable after loading.\n",
            "WARNING:absl:<keras.layers.recurrent.LSTMCell object at 0x7f1e6a80e650> has the same name 'LSTMCell' as a built-in Keras object. Consider renaming <class 'keras.layers.recurrent.LSTMCell'> to avoid naming conflicts when loading with `tf.keras.models.load_model`. If renaming is not possible, pass the object in the `custom_objects` parameter of the load function.\n",
            "WARNING:absl:<keras.layers.recurrent.LSTMCell object at 0x7f1e6a80e950> has the same name 'LSTMCell' as a built-in Keras object. Consider renaming <class 'keras.layers.recurrent.LSTMCell'> to avoid naming conflicts when loading with `tf.keras.models.load_model`. If renaming is not possible, pass the object in the `custom_objects` parameter of the load function.\n"
          ]
        },
        {
          "output_type": "stream",
          "name": "stdout",
          "text": [
            "\b\b\b\b\b\b\b\b\b\b\b\b\b\b\b\b\b\b\b\b\b\b\b\b\b\b\b\b\b\b\b\b\b\b\b\b\b\b\b\b\b\b\b\b\b\b\b\b\b\b\b\b\b\b\b\b\b\b\b\b\b\b\b\b\b\b\b\b\b\b\b\b\b\b\b\b\b\b\b\b\b\b\b\b\b\b\b\b\b\b\b\r98/98 [==============================] - 113s 1s/step - loss: 0.0028 - mae: 0.0386 - mse: 0.0028 - val_loss: 0.0025 - val_mae: 0.0361 - val_mse: 0.0025 - lr: 1.0000e-04\n",
            "Epoch 54/70\n",
            "98/98 [==============================] - ETA: 0s - loss: 0.0024 - mae: 0.0359 - mse: 0.0024"
          ]
        },
        {
          "output_type": "stream",
          "name": "stderr",
          "text": [
            "WARNING:absl:Found untraced functions such as lstm_cell_6_layer_call_fn, lstm_cell_6_layer_call_and_return_conditional_losses, lstm_cell_7_layer_call_fn, lstm_cell_7_layer_call_and_return_conditional_losses while saving (showing 4 of 4). These functions will not be directly callable after loading.\n",
            "WARNING:absl:<keras.layers.recurrent.LSTMCell object at 0x7f1e6a80e650> has the same name 'LSTMCell' as a built-in Keras object. Consider renaming <class 'keras.layers.recurrent.LSTMCell'> to avoid naming conflicts when loading with `tf.keras.models.load_model`. If renaming is not possible, pass the object in the `custom_objects` parameter of the load function.\n",
            "WARNING:absl:<keras.layers.recurrent.LSTMCell object at 0x7f1e6a80e950> has the same name 'LSTMCell' as a built-in Keras object. Consider renaming <class 'keras.layers.recurrent.LSTMCell'> to avoid naming conflicts when loading with `tf.keras.models.load_model`. If renaming is not possible, pass the object in the `custom_objects` parameter of the load function.\n"
          ]
        },
        {
          "output_type": "stream",
          "name": "stdout",
          "text": [
            "\b\b\b\b\b\b\b\b\b\b\b\b\b\b\b\b\b\b\b\b\b\b\b\b\b\b\b\b\b\b\b\b\b\b\b\b\b\b\b\b\b\b\b\b\b\b\b\b\b\b\b\b\b\b\b\b\b\b\b\b\b\b\b\b\b\b\b\b\b\b\b\b\b\b\b\b\b\b\b\b\b\b\b\b\b\b\b\b\b\b\b\r98/98 [==============================] - 114s 1s/step - loss: 0.0024 - mae: 0.0359 - mse: 0.0024 - val_loss: 0.0022 - val_mae: 0.0342 - val_mse: 0.0022 - lr: 1.0000e-04\n",
            "Epoch 55/70\n",
            "98/98 [==============================] - ETA: 0s - loss: 0.0022 - mae: 0.0339 - mse: 0.0022"
          ]
        },
        {
          "output_type": "stream",
          "name": "stderr",
          "text": [
            "WARNING:absl:Found untraced functions such as lstm_cell_6_layer_call_fn, lstm_cell_6_layer_call_and_return_conditional_losses, lstm_cell_7_layer_call_fn, lstm_cell_7_layer_call_and_return_conditional_losses while saving (showing 4 of 4). These functions will not be directly callable after loading.\n",
            "WARNING:absl:<keras.layers.recurrent.LSTMCell object at 0x7f1e6a80e650> has the same name 'LSTMCell' as a built-in Keras object. Consider renaming <class 'keras.layers.recurrent.LSTMCell'> to avoid naming conflicts when loading with `tf.keras.models.load_model`. If renaming is not possible, pass the object in the `custom_objects` parameter of the load function.\n",
            "WARNING:absl:<keras.layers.recurrent.LSTMCell object at 0x7f1e6a80e950> has the same name 'LSTMCell' as a built-in Keras object. Consider renaming <class 'keras.layers.recurrent.LSTMCell'> to avoid naming conflicts when loading with `tf.keras.models.load_model`. If renaming is not possible, pass the object in the `custom_objects` parameter of the load function.\n"
          ]
        },
        {
          "output_type": "stream",
          "name": "stdout",
          "text": [
            "\b\b\b\b\b\b\b\b\b\b\b\b\b\b\b\b\b\b\b\b\b\b\b\b\b\b\b\b\b\b\b\b\b\b\b\b\b\b\b\b\b\b\b\b\b\b\b\b\b\b\b\b\b\b\b\b\b\b\b\b\b\b\b\b\b\b\b\b\b\b\b\b\b\b\b\b\b\b\b\b\b\b\b\b\b\b\b\b\b\b\b\r98/98 [==============================] - 113s 1s/step - loss: 0.0022 - mae: 0.0339 - mse: 0.0022 - val_loss: 0.0020 - val_mae: 0.0315 - val_mse: 0.0020 - lr: 1.0000e-04\n",
            "Epoch 56/70\n",
            "98/98 [==============================] - ETA: 0s - loss: 0.0020 - mae: 0.0322 - mse: 0.0020"
          ]
        },
        {
          "output_type": "stream",
          "name": "stderr",
          "text": [
            "WARNING:absl:Found untraced functions such as lstm_cell_6_layer_call_fn, lstm_cell_6_layer_call_and_return_conditional_losses, lstm_cell_7_layer_call_fn, lstm_cell_7_layer_call_and_return_conditional_losses while saving (showing 4 of 4). These functions will not be directly callable after loading.\n",
            "WARNING:absl:<keras.layers.recurrent.LSTMCell object at 0x7f1e6a80e650> has the same name 'LSTMCell' as a built-in Keras object. Consider renaming <class 'keras.layers.recurrent.LSTMCell'> to avoid naming conflicts when loading with `tf.keras.models.load_model`. If renaming is not possible, pass the object in the `custom_objects` parameter of the load function.\n",
            "WARNING:absl:<keras.layers.recurrent.LSTMCell object at 0x7f1e6a80e950> has the same name 'LSTMCell' as a built-in Keras object. Consider renaming <class 'keras.layers.recurrent.LSTMCell'> to avoid naming conflicts when loading with `tf.keras.models.load_model`. If renaming is not possible, pass the object in the `custom_objects` parameter of the load function.\n"
          ]
        },
        {
          "output_type": "stream",
          "name": "stdout",
          "text": [
            "\b\b\b\b\b\b\b\b\b\b\b\b\b\b\b\b\b\b\b\b\b\b\b\b\b\b\b\b\b\b\b\b\b\b\b\b\b\b\b\b\b\b\b\b\b\b\b\b\b\b\b\b\b\b\b\b\b\b\b\b\b\b\b\b\b\b\b\b\b\b\b\b\b\b\b\b\b\b\b\b\b\b\b\b\b\b\b\b\b\b\b\r98/98 [==============================] - 113s 1s/step - loss: 0.0020 - mae: 0.0322 - mse: 0.0020 - val_loss: 0.0019 - val_mae: 0.0306 - val_mse: 0.0019 - lr: 1.0000e-04\n",
            "Epoch 57/70\n",
            "98/98 [==============================] - ETA: 0s - loss: 0.0019 - mae: 0.0308 - mse: 0.0019"
          ]
        },
        {
          "output_type": "stream",
          "name": "stderr",
          "text": [
            "WARNING:absl:Found untraced functions such as lstm_cell_6_layer_call_fn, lstm_cell_6_layer_call_and_return_conditional_losses, lstm_cell_7_layer_call_fn, lstm_cell_7_layer_call_and_return_conditional_losses while saving (showing 4 of 4). These functions will not be directly callable after loading.\n",
            "WARNING:absl:<keras.layers.recurrent.LSTMCell object at 0x7f1e6a80e650> has the same name 'LSTMCell' as a built-in Keras object. Consider renaming <class 'keras.layers.recurrent.LSTMCell'> to avoid naming conflicts when loading with `tf.keras.models.load_model`. If renaming is not possible, pass the object in the `custom_objects` parameter of the load function.\n",
            "WARNING:absl:<keras.layers.recurrent.LSTMCell object at 0x7f1e6a80e950> has the same name 'LSTMCell' as a built-in Keras object. Consider renaming <class 'keras.layers.recurrent.LSTMCell'> to avoid naming conflicts when loading with `tf.keras.models.load_model`. If renaming is not possible, pass the object in the `custom_objects` parameter of the load function.\n"
          ]
        },
        {
          "output_type": "stream",
          "name": "stdout",
          "text": [
            "\b\b\b\b\b\b\b\b\b\b\b\b\b\b\b\b\b\b\b\b\b\b\b\b\b\b\b\b\b\b\b\b\b\b\b\b\b\b\b\b\b\b\b\b\b\b\b\b\b\b\b\b\b\b\b\b\b\b\b\b\b\b\b\b\b\b\b\b\b\b\b\b\b\b\b\b\b\b\b\b\b\b\b\b\b\b\b\b\b\b\b\r98/98 [==============================] - 114s 1s/step - loss: 0.0019 - mae: 0.0308 - mse: 0.0019 - val_loss: 0.0017 - val_mae: 0.0290 - val_mse: 0.0017 - lr: 1.0000e-04\n",
            "Epoch 58/70\n",
            "98/98 [==============================] - ETA: 0s - loss: 0.0017 - mae: 0.0290 - mse: 0.0017"
          ]
        },
        {
          "output_type": "stream",
          "name": "stderr",
          "text": [
            "WARNING:absl:Found untraced functions such as lstm_cell_6_layer_call_fn, lstm_cell_6_layer_call_and_return_conditional_losses, lstm_cell_7_layer_call_fn, lstm_cell_7_layer_call_and_return_conditional_losses while saving (showing 4 of 4). These functions will not be directly callable after loading.\n",
            "WARNING:absl:<keras.layers.recurrent.LSTMCell object at 0x7f1e6a80e650> has the same name 'LSTMCell' as a built-in Keras object. Consider renaming <class 'keras.layers.recurrent.LSTMCell'> to avoid naming conflicts when loading with `tf.keras.models.load_model`. If renaming is not possible, pass the object in the `custom_objects` parameter of the load function.\n",
            "WARNING:absl:<keras.layers.recurrent.LSTMCell object at 0x7f1e6a80e950> has the same name 'LSTMCell' as a built-in Keras object. Consider renaming <class 'keras.layers.recurrent.LSTMCell'> to avoid naming conflicts when loading with `tf.keras.models.load_model`. If renaming is not possible, pass the object in the `custom_objects` parameter of the load function.\n"
          ]
        },
        {
          "output_type": "stream",
          "name": "stdout",
          "text": [
            "\b\b\b\b\b\b\b\b\b\b\b\b\b\b\b\b\b\b\b\b\b\b\b\b\b\b\b\b\b\b\b\b\b\b\b\b\b\b\b\b\b\b\b\b\b\b\b\b\b\b\b\b\b\b\b\b\b\b\b\b\b\b\b\b\b\b\b\b\b\b\b\b\b\b\b\b\b\b\b\b\b\b\b\b\b\b\b\b\b\b\b\r98/98 [==============================] - 115s 1s/step - loss: 0.0017 - mae: 0.0290 - mse: 0.0017 - val_loss: 0.0017 - val_mae: 0.0281 - val_mse: 0.0017 - lr: 1.0000e-04\n",
            "Epoch 59/70\n",
            "98/98 [==============================] - ETA: 0s - loss: 0.0016 - mae: 0.0277 - mse: 0.0016"
          ]
        },
        {
          "output_type": "stream",
          "name": "stderr",
          "text": [
            "WARNING:absl:Found untraced functions such as lstm_cell_6_layer_call_fn, lstm_cell_6_layer_call_and_return_conditional_losses, lstm_cell_7_layer_call_fn, lstm_cell_7_layer_call_and_return_conditional_losses while saving (showing 4 of 4). These functions will not be directly callable after loading.\n",
            "WARNING:absl:<keras.layers.recurrent.LSTMCell object at 0x7f1e6a80e650> has the same name 'LSTMCell' as a built-in Keras object. Consider renaming <class 'keras.layers.recurrent.LSTMCell'> to avoid naming conflicts when loading with `tf.keras.models.load_model`. If renaming is not possible, pass the object in the `custom_objects` parameter of the load function.\n",
            "WARNING:absl:<keras.layers.recurrent.LSTMCell object at 0x7f1e6a80e950> has the same name 'LSTMCell' as a built-in Keras object. Consider renaming <class 'keras.layers.recurrent.LSTMCell'> to avoid naming conflicts when loading with `tf.keras.models.load_model`. If renaming is not possible, pass the object in the `custom_objects` parameter of the load function.\n"
          ]
        },
        {
          "output_type": "stream",
          "name": "stdout",
          "text": [
            "\b\b\b\b\b\b\b\b\b\b\b\b\b\b\b\b\b\b\b\b\b\b\b\b\b\b\b\b\b\b\b\b\b\b\b\b\b\b\b\b\b\b\b\b\b\b\b\b\b\b\b\b\b\b\b\b\b\b\b\b\b\b\b\b\b\b\b\b\b\b\b\b\b\b\b\b\b\b\b\b\b\b\b\b\b\b\b\b\b\b\b\r98/98 [==============================] - 113s 1s/step - loss: 0.0016 - mae: 0.0277 - mse: 0.0016 - val_loss: 0.0015 - val_mae: 0.0263 - val_mse: 0.0015 - lr: 1.0000e-04\n",
            "Epoch 60/70\n",
            "98/98 [==============================] - ETA: 0s - loss: 0.0015 - mae: 0.0265 - mse: 0.0015"
          ]
        },
        {
          "output_type": "stream",
          "name": "stderr",
          "text": [
            "WARNING:absl:Found untraced functions such as lstm_cell_6_layer_call_fn, lstm_cell_6_layer_call_and_return_conditional_losses, lstm_cell_7_layer_call_fn, lstm_cell_7_layer_call_and_return_conditional_losses while saving (showing 4 of 4). These functions will not be directly callable after loading.\n",
            "WARNING:absl:<keras.layers.recurrent.LSTMCell object at 0x7f1e6a80e650> has the same name 'LSTMCell' as a built-in Keras object. Consider renaming <class 'keras.layers.recurrent.LSTMCell'> to avoid naming conflicts when loading with `tf.keras.models.load_model`. If renaming is not possible, pass the object in the `custom_objects` parameter of the load function.\n",
            "WARNING:absl:<keras.layers.recurrent.LSTMCell object at 0x7f1e6a80e950> has the same name 'LSTMCell' as a built-in Keras object. Consider renaming <class 'keras.layers.recurrent.LSTMCell'> to avoid naming conflicts when loading with `tf.keras.models.load_model`. If renaming is not possible, pass the object in the `custom_objects` parameter of the load function.\n"
          ]
        },
        {
          "output_type": "stream",
          "name": "stdout",
          "text": [
            "\b\b\b\b\b\b\b\b\b\b\b\b\b\b\b\b\b\b\b\b\b\b\b\b\b\b\b\b\b\b\b\b\b\b\b\b\b\b\b\b\b\b\b\b\b\b\b\b\b\b\b\b\b\b\b\b\b\b\b\b\b\b\b\b\b\b\b\b\b\b\b\b\b\b\b\b\b\b\b\b\b\b\b\b\b\b\b\b\b\b\b\r98/98 [==============================] - 115s 1s/step - loss: 0.0015 - mae: 0.0265 - mse: 0.0015 - val_loss: 0.0013 - val_mae: 0.0247 - val_mse: 0.0013 - lr: 1.0000e-04\n",
            "Epoch 61/70\n",
            "98/98 [==============================] - 83s 849ms/step - loss: 0.0013 - mae: 0.0251 - mse: 0.0013 - val_loss: 0.0013 - val_mae: 0.0247 - val_mse: 0.0013 - lr: 1.0000e-04\n",
            "Epoch 62/70\n",
            "98/98 [==============================] - ETA: 0s - loss: 0.0012 - mae: 0.0239 - mse: 0.0012"
          ]
        },
        {
          "output_type": "stream",
          "name": "stderr",
          "text": [
            "WARNING:absl:Found untraced functions such as lstm_cell_6_layer_call_fn, lstm_cell_6_layer_call_and_return_conditional_losses, lstm_cell_7_layer_call_fn, lstm_cell_7_layer_call_and_return_conditional_losses while saving (showing 4 of 4). These functions will not be directly callable after loading.\n",
            "WARNING:absl:<keras.layers.recurrent.LSTMCell object at 0x7f1e6a80e650> has the same name 'LSTMCell' as a built-in Keras object. Consider renaming <class 'keras.layers.recurrent.LSTMCell'> to avoid naming conflicts when loading with `tf.keras.models.load_model`. If renaming is not possible, pass the object in the `custom_objects` parameter of the load function.\n",
            "WARNING:absl:<keras.layers.recurrent.LSTMCell object at 0x7f1e6a80e950> has the same name 'LSTMCell' as a built-in Keras object. Consider renaming <class 'keras.layers.recurrent.LSTMCell'> to avoid naming conflicts when loading with `tf.keras.models.load_model`. If renaming is not possible, pass the object in the `custom_objects` parameter of the load function.\n"
          ]
        },
        {
          "output_type": "stream",
          "name": "stdout",
          "text": [
            "\b\b\b\b\b\b\b\b\b\b\b\b\b\b\b\b\b\b\b\b\b\b\b\b\b\b\b\b\b\b\b\b\b\b\b\b\b\b\b\b\b\b\b\b\b\b\b\b\b\b\b\b\b\b\b\b\b\b\b\b\b\b\b\b\b\b\b\b\b\b\b\b\b\b\b\b\b\b\b\b\b\b\b\b\b\b\b\b\b\b\b\r98/98 [==============================] - 113s 1s/step - loss: 0.0012 - mae: 0.0239 - mse: 0.0012 - val_loss: 0.0011 - val_mae: 0.0217 - val_mse: 0.0011 - lr: 1.0000e-04\n",
            "Epoch 63/70\n",
            "98/98 [==============================] - ETA: 0s - loss: 0.0012 - mae: 0.0230 - mse: 0.0012"
          ]
        },
        {
          "output_type": "stream",
          "name": "stderr",
          "text": [
            "WARNING:absl:Found untraced functions such as lstm_cell_6_layer_call_fn, lstm_cell_6_layer_call_and_return_conditional_losses, lstm_cell_7_layer_call_fn, lstm_cell_7_layer_call_and_return_conditional_losses while saving (showing 4 of 4). These functions will not be directly callable after loading.\n",
            "WARNING:absl:<keras.layers.recurrent.LSTMCell object at 0x7f1e6a80e650> has the same name 'LSTMCell' as a built-in Keras object. Consider renaming <class 'keras.layers.recurrent.LSTMCell'> to avoid naming conflicts when loading with `tf.keras.models.load_model`. If renaming is not possible, pass the object in the `custom_objects` parameter of the load function.\n",
            "WARNING:absl:<keras.layers.recurrent.LSTMCell object at 0x7f1e6a80e950> has the same name 'LSTMCell' as a built-in Keras object. Consider renaming <class 'keras.layers.recurrent.LSTMCell'> to avoid naming conflicts when loading with `tf.keras.models.load_model`. If renaming is not possible, pass the object in the `custom_objects` parameter of the load function.\n"
          ]
        },
        {
          "output_type": "stream",
          "name": "stdout",
          "text": [
            "\b\b\b\b\b\b\b\b\b\b\b\b\b\b\b\b\b\b\b\b\b\b\b\b\b\b\b\b\b\b\b\b\b\b\b\b\b\b\b\b\b\b\b\b\b\b\b\b\b\b\b\b\b\b\b\b\b\b\b\b\b\b\b\b\b\b\b\b\b\b\b\b\b\b\b\b\b\b\b\b\b\b\b\b\b\b\b\b\b\b\b\r98/98 [==============================] - 115s 1s/step - loss: 0.0012 - mae: 0.0230 - mse: 0.0012 - val_loss: 0.0010 - val_mae: 0.0216 - val_mse: 0.0010 - lr: 1.0000e-04\n",
            "Epoch 64/70\n",
            "98/98 [==============================] - ETA: 0s - loss: 0.0010 - mae: 0.0215 - mse: 0.0010"
          ]
        },
        {
          "output_type": "stream",
          "name": "stderr",
          "text": [
            "WARNING:absl:Found untraced functions such as lstm_cell_6_layer_call_fn, lstm_cell_6_layer_call_and_return_conditional_losses, lstm_cell_7_layer_call_fn, lstm_cell_7_layer_call_and_return_conditional_losses while saving (showing 4 of 4). These functions will not be directly callable after loading.\n",
            "WARNING:absl:<keras.layers.recurrent.LSTMCell object at 0x7f1e6a80e650> has the same name 'LSTMCell' as a built-in Keras object. Consider renaming <class 'keras.layers.recurrent.LSTMCell'> to avoid naming conflicts when loading with `tf.keras.models.load_model`. If renaming is not possible, pass the object in the `custom_objects` parameter of the load function.\n",
            "WARNING:absl:<keras.layers.recurrent.LSTMCell object at 0x7f1e6a80e950> has the same name 'LSTMCell' as a built-in Keras object. Consider renaming <class 'keras.layers.recurrent.LSTMCell'> to avoid naming conflicts when loading with `tf.keras.models.load_model`. If renaming is not possible, pass the object in the `custom_objects` parameter of the load function.\n"
          ]
        },
        {
          "output_type": "stream",
          "name": "stdout",
          "text": [
            "\b\b\b\b\b\b\b\b\b\b\b\b\b\b\b\b\b\b\b\b\b\b\b\b\b\b\b\b\b\b\b\b\b\b\b\b\b\b\b\b\b\b\b\b\b\b\b\b\b\b\b\b\b\b\b\b\b\b\b\b\b\b\b\b\b\b\b\b\b\b\b\b\b\b\b\b\b\b\b\b\b\b\b\b\b\b\b\b\b\b\b\r98/98 [==============================] - 115s 1s/step - loss: 0.0010 - mae: 0.0215 - mse: 0.0010 - val_loss: 9.4067e-04 - val_mae: 0.0198 - val_mse: 9.4067e-04 - lr: 1.0000e-04\n",
            "Epoch 65/70\n",
            "98/98 [==============================] - 83s 848ms/step - loss: 9.3680e-04 - mae: 0.0205 - mse: 9.3680e-04 - val_loss: 9.6009e-04 - val_mae: 0.0204 - val_mse: 9.6009e-04 - lr: 1.0000e-04\n",
            "Epoch 66/70\n",
            "98/98 [==============================] - ETA: 0s - loss: 8.7468e-04 - mae: 0.0196 - mse: 8.7468e-04"
          ]
        },
        {
          "output_type": "stream",
          "name": "stderr",
          "text": [
            "WARNING:absl:Found untraced functions such as lstm_cell_6_layer_call_fn, lstm_cell_6_layer_call_and_return_conditional_losses, lstm_cell_7_layer_call_fn, lstm_cell_7_layer_call_and_return_conditional_losses while saving (showing 4 of 4). These functions will not be directly callable after loading.\n",
            "WARNING:absl:<keras.layers.recurrent.LSTMCell object at 0x7f1e6a80e650> has the same name 'LSTMCell' as a built-in Keras object. Consider renaming <class 'keras.layers.recurrent.LSTMCell'> to avoid naming conflicts when loading with `tf.keras.models.load_model`. If renaming is not possible, pass the object in the `custom_objects` parameter of the load function.\n",
            "WARNING:absl:<keras.layers.recurrent.LSTMCell object at 0x7f1e6a80e950> has the same name 'LSTMCell' as a built-in Keras object. Consider renaming <class 'keras.layers.recurrent.LSTMCell'> to avoid naming conflicts when loading with `tf.keras.models.load_model`. If renaming is not possible, pass the object in the `custom_objects` parameter of the load function.\n"
          ]
        },
        {
          "output_type": "stream",
          "name": "stdout",
          "text": [
            "\b\b\b\b\b\b\b\b\b\b\b\b\b\b\b\b\b\b\b\b\b\b\b\b\b\b\b\b\b\b\b\b\b\b\b\b\b\b\b\b\b\b\b\b\b\b\b\b\b\b\b\b\b\b\b\b\b\b\b\b\b\b\b\b\b\b\b\b\b\b\b\b\b\b\b\b\b\b\b\b\b\b\b\b\b\b\b\b\b\b\b\b\b\b\b\b\b\b\b\r98/98 [==============================] - 113s 1s/step - loss: 8.7468e-04 - mae: 0.0196 - mse: 8.7468e-04 - val_loss: 6.3247e-04 - val_mae: 0.0167 - val_mse: 6.3247e-04 - lr: 1.0000e-04\n",
            "Epoch 67/70\n",
            "98/98 [==============================] - 83s 846ms/step - loss: 8.0013e-04 - mae: 0.0186 - mse: 8.0013e-04 - val_loss: 7.1666e-04 - val_mae: 0.0180 - val_mse: 7.1666e-04 - lr: 1.0000e-04\n",
            "Epoch 68/70\n",
            "98/98 [==============================] - 82s 842ms/step - loss: 7.1580e-04 - mae: 0.0179 - mse: 7.1580e-04 - val_loss: 6.3860e-04 - val_mae: 0.0169 - val_mse: 6.3860e-04 - lr: 1.0000e-04\n",
            "Epoch 69/70\n",
            "98/98 [==============================] - ETA: 0s - loss: 6.6986e-04 - mae: 0.0169 - mse: 6.6986e-04"
          ]
        },
        {
          "output_type": "stream",
          "name": "stderr",
          "text": [
            "WARNING:absl:Found untraced functions such as lstm_cell_6_layer_call_fn, lstm_cell_6_layer_call_and_return_conditional_losses, lstm_cell_7_layer_call_fn, lstm_cell_7_layer_call_and_return_conditional_losses while saving (showing 4 of 4). These functions will not be directly callable after loading.\n",
            "WARNING:absl:<keras.layers.recurrent.LSTMCell object at 0x7f1e6a80e650> has the same name 'LSTMCell' as a built-in Keras object. Consider renaming <class 'keras.layers.recurrent.LSTMCell'> to avoid naming conflicts when loading with `tf.keras.models.load_model`. If renaming is not possible, pass the object in the `custom_objects` parameter of the load function.\n",
            "WARNING:absl:<keras.layers.recurrent.LSTMCell object at 0x7f1e6a80e950> has the same name 'LSTMCell' as a built-in Keras object. Consider renaming <class 'keras.layers.recurrent.LSTMCell'> to avoid naming conflicts when loading with `tf.keras.models.load_model`. If renaming is not possible, pass the object in the `custom_objects` parameter of the load function.\n"
          ]
        },
        {
          "output_type": "stream",
          "name": "stdout",
          "text": [
            "\b\b\b\b\b\b\b\b\b\b\b\b\b\b\b\b\b\b\b\b\b\b\b\b\b\b\b\b\b\b\b\b\b\b\b\b\b\b\b\b\b\b\b\b\b\b\b\b\b\b\b\b\b\b\b\b\b\b\b\b\b\b\b\b\b\b\b\b\b\b\b\b\b\b\b\b\b\b\b\b\b\b\b\b\b\b\b\b\b\b\b\b\b\b\b\b\b\b\b\r98/98 [==============================] - 113s 1s/step - loss: 6.6986e-04 - mae: 0.0169 - mse: 6.6986e-04 - val_loss: 5.6586e-04 - val_mae: 0.0157 - val_mse: 5.6586e-04 - lr: 1.0000e-04\n",
            "Epoch 70/70\n",
            "98/98 [==============================] - ETA: 0s - loss: 6.1597e-04 - mae: 0.0161 - mse: 6.1597e-04"
          ]
        },
        {
          "output_type": "stream",
          "name": "stderr",
          "text": [
            "WARNING:absl:Found untraced functions such as lstm_cell_6_layer_call_fn, lstm_cell_6_layer_call_and_return_conditional_losses, lstm_cell_7_layer_call_fn, lstm_cell_7_layer_call_and_return_conditional_losses while saving (showing 4 of 4). These functions will not be directly callable after loading.\n",
            "WARNING:absl:<keras.layers.recurrent.LSTMCell object at 0x7f1e6a80e650> has the same name 'LSTMCell' as a built-in Keras object. Consider renaming <class 'keras.layers.recurrent.LSTMCell'> to avoid naming conflicts when loading with `tf.keras.models.load_model`. If renaming is not possible, pass the object in the `custom_objects` parameter of the load function.\n",
            "WARNING:absl:<keras.layers.recurrent.LSTMCell object at 0x7f1e6a80e950> has the same name 'LSTMCell' as a built-in Keras object. Consider renaming <class 'keras.layers.recurrent.LSTMCell'> to avoid naming conflicts when loading with `tf.keras.models.load_model`. If renaming is not possible, pass the object in the `custom_objects` parameter of the load function.\n"
          ]
        },
        {
          "output_type": "stream",
          "name": "stdout",
          "text": [
            "\b\b\b\b\b\b\b\b\b\b\b\b\b\b\b\b\b\b\b\b\b\b\b\b\b\b\b\b\b\b\b\b\b\b\b\b\b\b\b\b\b\b\b\b\b\b\b\b\b\b\b\b\b\b\b\b\b\b\b\b\b\b\b\b\b\b\b\b\b\b\b\b\b\b\b\b\b\b\b\b\b\b\b\b\b\b\b\b\b\b\b\b\b\b\b\b\b\b\b\r98/98 [==============================] - 114s 1s/step - loss: 6.1597e-04 - mae: 0.0161 - mse: 6.1597e-04 - val_loss: 4.6755e-04 - val_mae: 0.0141 - val_mse: 4.6755e-04 - lr: 1.0000e-04\n"
          ]
        },
        {
          "output_type": "execute_result",
          "data": {
            "text/plain": [
              "<keras.callbacks.History at 0x7f1e5065c690>"
            ]
          },
          "metadata": {},
          "execution_count": 37
        },
        {
          "output_type": "stream",
          "name": "stdout",
          "text": [
            "time: 2h 19min 54s (started: 2022-10-10 18:50:41 +00:00)\n"
          ]
        }
      ]
    },
    {
      "cell_type": "markdown",
      "source": [
        "# **Approach with HF Transformers**"
      ],
      "metadata": {
        "id": "kMr-Ot-5JjAy"
      }
    },
    {
      "cell_type": "markdown",
      "source": [
        "**Dependencies**"
      ],
      "metadata": {
        "id": "ckSYfjuhw00-"
      }
    },
    {
      "cell_type": "code",
      "source": [
        "!pip install --quiet transformers"
      ],
      "metadata": {
        "id": "nfVJ-TVzvVCa"
      },
      "execution_count": null,
      "outputs": []
    },
    {
      "cell_type": "code",
      "source": [
        "import tensorflow as tf\n",
        "from transformers import AutoTokenizer\n",
        "from transformers import TFAutoModel"
      ],
      "metadata": {
        "id": "709dx2pZvWdz"
      },
      "execution_count": null,
      "outputs": []
    },
    {
      "cell_type": "code",
      "source": [
        "import numpy as np"
      ],
      "metadata": {
        "id": "51ZVB-u3ay0H"
      },
      "execution_count": null,
      "outputs": []
    },
    {
      "cell_type": "code",
      "source": [
        "tf.config.run_functions_eagerly(True)"
      ],
      "metadata": {
        "id": "tlaLIoCF60HG"
      },
      "execution_count": null,
      "outputs": []
    },
    {
      "cell_type": "code",
      "source": [
        "!mkdir /content/checkpoint\n",
        "!mkdir /content/checkpoint/bert"
      ],
      "metadata": {
        "id": "wq_oefqM8dU3"
      },
      "execution_count": null,
      "outputs": []
    },
    {
      "cell_type": "markdown",
      "source": [
        "**Utility Functions**"
      ],
      "metadata": {
        "id": "UJ-o6qK8w3fy"
      }
    },
    {
      "cell_type": "code",
      "source": [
        "def bert_preprocess(text):\n",
        "  return (tokenizer(str(text),padding='max_length',truncation=True,return_attention_mask=False).data)"
      ],
      "metadata": {
        "id": "yG2BRwHew5cV"
      },
      "execution_count": null,
      "outputs": []
    },
    {
      "cell_type": "markdown",
      "source": [
        "**Preprocess**"
      ],
      "metadata": {
        "id": "bY-8F10vw_zB"
      }
    },
    {
      "cell_type": "code",
      "source": [
        "tokenizer = AutoTokenizer.from_pretrained('bert-base-uncased')"
      ],
      "metadata": {
        "id": "rk6XJNAXMmhE"
      },
      "execution_count": null,
      "outputs": []
    },
    {
      "cell_type": "code",
      "source": [
        "X = df['full_text']\n",
        "y = df.drop(['full_text','text_id'],axis=1)  "
      ],
      "metadata": {
        "id": "jFanbKvXwMvg"
      },
      "execution_count": null,
      "outputs": []
    },
    {
      "cell_type": "code",
      "source": [
        "encodings = tokenizer(X.to_list(),padding='max_length',truncation=True,return_attention_mask=False)"
      ],
      "metadata": {
        "id": "9tlEOYdiWL6A"
      },
      "execution_count": null,
      "outputs": []
    },
    {
      "cell_type": "code",
      "source": [
        "dataset = tf.data.Dataset.from_tensor_slices((\n",
        "    dict(encodings),\n",
        "    y\n",
        "))"
      ],
      "metadata": {
        "id": "T8amm0n7WGGf"
      },
      "execution_count": null,
      "outputs": []
    },
    {
      "cell_type": "code",
      "source": [
        "dataset = dataset.batch(2)"
      ],
      "metadata": {
        "id": "Z8ax4VDabRhk"
      },
      "execution_count": null,
      "outputs": []
    },
    {
      "cell_type": "code",
      "source": [
        "ds_cardinality = tf.data.experimental.cardinality(dataset)\n",
        "train_set = dataset.skip(ds_cardinality // 5)\n",
        "test_set = dataset.take(ds_cardinality // 5)"
      ],
      "metadata": {
        "id": "7fpZHzIC9Up-"
      },
      "execution_count": null,
      "outputs": []
    },
    {
      "cell_type": "code",
      "source": [
        "MAX_LENGTH = 512"
      ],
      "metadata": {
        "id": "g2ZPidclxJcS"
      },
      "execution_count": null,
      "outputs": []
    },
    {
      "cell_type": "markdown",
      "source": [
        "**Training and Testing with BERT**"
      ],
      "metadata": {
        "id": "YXMzapO118PD"
      }
    },
    {
      "cell_type": "code",
      "source": [
        "from transformers import TFBertModel"
      ],
      "metadata": {
        "id": "Y2fKle1Z7vZM"
      },
      "execution_count": null,
      "outputs": []
    },
    {
      "cell_type": "code",
      "source": [
        "def build_model():\n",
        "    \n",
        "    encoder = TFAutoModel.from_pretrained('bert-base-uncased')\n",
        "    input_word_ids = tf.keras.Input(shape=(MAX_LENGTH,), dtype=tf.int32, name=\"input_ids\")\n",
        "    input_mask = tf.keras.Input(shape=(MAX_LENGTH,), dtype=tf.int32, name=\"token_type_ids\") \n",
        "    \n",
        "    embedding = encoder([input_word_ids, input_mask])[0] \n",
        "    \n",
        "    \n",
        "    output = tf.keras.layers.Dense(6)(embedding[:,0,:])\n",
        "    \n",
        "    \n",
        "       \n",
        "    model = tf.keras.Model(inputs=[input_word_ids, input_mask], outputs=output) \n",
        "    model.compile(tf.keras.optimizers.Adam(lr=1e-5), loss='mse', metrics=['mae',\"mse\"]) \n",
        "    return model"
      ],
      "metadata": {
        "id": "1fFKFVkJJnWd"
      },
      "execution_count": null,
      "outputs": []
    },
    {
      "cell_type": "code",
      "source": [
        "bert_model = build_model()"
      ],
      "metadata": {
        "id": "faFkV59Nzw0q"
      },
      "execution_count": null,
      "outputs": []
    },
    {
      "cell_type": "code",
      "source": [
        "model_checkpoint = tf.keras.callbacks.ModelCheckpoint(filepath=\"/content/checkpoint/bert\",monitor='val_loss',mode='min',save_best_only=True)\n",
        "lr_plateau = tf.keras.callbacks.ReduceLROnPlateau(verbose=1,patience=6)\n",
        "early_stopping = tf.keras.callbacks.EarlyStopping(patience=16)"
      ],
      "metadata": {
        "id": "GfnQN1AU8PVo"
      },
      "execution_count": null,
      "outputs": []
    },
    {
      "cell_type": "code",
      "source": [
        "bert_model.fit(train_set,validation_data=(test_set),epochs=35,callbacks=[model_checkpoint,lr_plateau,early_stopping])"
      ],
      "metadata": {
        "id": "LXJ6uecDz4h2"
      },
      "execution_count": null,
      "outputs": []
    }
  ]
}